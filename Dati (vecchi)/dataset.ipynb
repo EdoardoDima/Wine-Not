{
 "cells": [
  {
   "cell_type": "markdown",
   "metadata": {},
   "source": [
    "# Progetto Statistical Learning"
   ]
  },
  {
   "cell_type": "markdown",
   "metadata": {},
   "source": [
    "considero i df trovato su kaggle e restringo l'analisi all'Italia e ai vini contententi principalmente Merlot"
   ]
  },
  {
   "cell_type": "code",
   "execution_count": 9,
   "metadata": {},
   "outputs": [],
   "source": [
    "#libraries\n",
    "import pandas as pd\n",
    "import numpy as np\n"
   ]
  },
  {
   "cell_type": "code",
   "execution_count": 10,
   "metadata": {},
   "outputs": [],
   "source": [
    "#dataset\n",
    "data=pd.read_csv(\"cleansingWine.csv\")"
   ]
  },
  {
   "cell_type": "code",
   "execution_count": 180,
   "metadata": {},
   "outputs": [],
   "source": [
    "data=pd.DataFrame(data)"
   ]
  },
  {
   "cell_type": "code",
   "execution_count": 181,
   "metadata": {},
   "outputs": [
    {
     "data": {
      "text/html": [
       "<div>\n",
       "<style scoped>\n",
       "    .dataframe tbody tr th:only-of-type {\n",
       "        vertical-align: middle;\n",
       "    }\n",
       "\n",
       "    .dataframe tbody tr th {\n",
       "        vertical-align: top;\n",
       "    }\n",
       "\n",
       "    .dataframe thead th {\n",
       "        text-align: right;\n",
       "    }\n",
       "</style>\n",
       "<table border=\"1\" class=\"dataframe\">\n",
       "  <thead>\n",
       "    <tr style=\"text-align: right;\">\n",
       "      <th></th>\n",
       "      <th>Unnamed: 0</th>\n",
       "      <th>id</th>\n",
       "      <th>name</th>\n",
       "      <th>producer</th>\n",
       "      <th>nation</th>\n",
       "      <th>local1</th>\n",
       "      <th>local2</th>\n",
       "      <th>local3</th>\n",
       "      <th>local4</th>\n",
       "      <th>varieties1</th>\n",
       "      <th>...</th>\n",
       "      <th>use</th>\n",
       "      <th>abv</th>\n",
       "      <th>degree</th>\n",
       "      <th>sweet</th>\n",
       "      <th>acidity</th>\n",
       "      <th>body</th>\n",
       "      <th>tannin</th>\n",
       "      <th>price</th>\n",
       "      <th>year</th>\n",
       "      <th>ml</th>\n",
       "    </tr>\n",
       "  </thead>\n",
       "  <tbody>\n",
       "    <tr>\n",
       "      <th>0</th>\n",
       "      <td>0</td>\n",
       "      <td>137197</td>\n",
       "      <td>Altair</td>\n",
       "      <td>Altair</td>\n",
       "      <td>Chile</td>\n",
       "      <td>Rapel Valley</td>\n",
       "      <td>NaN</td>\n",
       "      <td>NaN</td>\n",
       "      <td>NaN</td>\n",
       "      <td>Cabernet Sauvignon</td>\n",
       "      <td>...</td>\n",
       "      <td>Table</td>\n",
       "      <td>14~15</td>\n",
       "      <td>17~19</td>\n",
       "      <td>SWEET1</td>\n",
       "      <td>ACIDITY4</td>\n",
       "      <td>BODY5</td>\n",
       "      <td>TANNIN4</td>\n",
       "      <td>220000</td>\n",
       "      <td>2014</td>\n",
       "      <td>750</td>\n",
       "    </tr>\n",
       "    <tr>\n",
       "      <th>1</th>\n",
       "      <td>1</td>\n",
       "      <td>137198</td>\n",
       "      <td>Altair, Sideral</td>\n",
       "      <td>Altair</td>\n",
       "      <td>Chile</td>\n",
       "      <td>Rapel Valley</td>\n",
       "      <td>NaN</td>\n",
       "      <td>NaN</td>\n",
       "      <td>NaN</td>\n",
       "      <td>Cabernet Sauvignon</td>\n",
       "      <td>...</td>\n",
       "      <td>Table</td>\n",
       "      <td>14~15</td>\n",
       "      <td>16~18</td>\n",
       "      <td>SWEET1</td>\n",
       "      <td>ACIDITY3</td>\n",
       "      <td>BODY4</td>\n",
       "      <td>TANNIN4</td>\n",
       "      <td>110000</td>\n",
       "      <td>2016</td>\n",
       "      <td>750</td>\n",
       "    </tr>\n",
       "    <tr>\n",
       "      <th>2</th>\n",
       "      <td>2</td>\n",
       "      <td>137199</td>\n",
       "      <td>Baron du Val Red</td>\n",
       "      <td>Baron du Val</td>\n",
       "      <td>France</td>\n",
       "      <td>NaN</td>\n",
       "      <td>NaN</td>\n",
       "      <td>NaN</td>\n",
       "      <td>NaN</td>\n",
       "      <td>Carignan</td>\n",
       "      <td>...</td>\n",
       "      <td>Table</td>\n",
       "      <td>11~12</td>\n",
       "      <td>15~17</td>\n",
       "      <td>SWEET2</td>\n",
       "      <td>ACIDITY3</td>\n",
       "      <td>BODY2</td>\n",
       "      <td>TANNIN2</td>\n",
       "      <td>0</td>\n",
       "      <td>0</td>\n",
       "      <td>750</td>\n",
       "    </tr>\n",
       "    <tr>\n",
       "      <th>3</th>\n",
       "      <td>3</td>\n",
       "      <td>137200</td>\n",
       "      <td>Baron du Val White</td>\n",
       "      <td>Baron du Val</td>\n",
       "      <td>France</td>\n",
       "      <td>NaN</td>\n",
       "      <td>NaN</td>\n",
       "      <td>NaN</td>\n",
       "      <td>NaN</td>\n",
       "      <td>Carignan</td>\n",
       "      <td>...</td>\n",
       "      <td>Table</td>\n",
       "      <td>11~12</td>\n",
       "      <td>9~11</td>\n",
       "      <td>SWEET1</td>\n",
       "      <td>ACIDITY3</td>\n",
       "      <td>BODY2</td>\n",
       "      <td>TANNIN1</td>\n",
       "      <td>0</td>\n",
       "      <td>0</td>\n",
       "      <td>750</td>\n",
       "    </tr>\n",
       "    <tr>\n",
       "      <th>4</th>\n",
       "      <td>4</td>\n",
       "      <td>137201</td>\n",
       "      <td>Benziger, Cabernet Sauvignon</td>\n",
       "      <td>Benziger</td>\n",
       "      <td>USA</td>\n",
       "      <td>California</td>\n",
       "      <td>NaN</td>\n",
       "      <td>NaN</td>\n",
       "      <td>NaN</td>\n",
       "      <td>Cabernet Sauvignon</td>\n",
       "      <td>...</td>\n",
       "      <td>Table</td>\n",
       "      <td>13~14</td>\n",
       "      <td>17~19</td>\n",
       "      <td>SWEET1</td>\n",
       "      <td>ACIDITY3</td>\n",
       "      <td>BODY3</td>\n",
       "      <td>TANNIN4</td>\n",
       "      <td>0</td>\n",
       "      <td>2003</td>\n",
       "      <td>750</td>\n",
       "    </tr>\n",
       "  </tbody>\n",
       "</table>\n",
       "<p>5 rows × 32 columns</p>\n",
       "</div>"
      ],
      "text/plain": [
       "   Unnamed: 0      id                          name      producer  nation  \\\n",
       "0           0  137197                        Altair        Altair   Chile   \n",
       "1           1  137198               Altair, Sideral        Altair   Chile   \n",
       "2           2  137199              Baron du Val Red  Baron du Val  France   \n",
       "3           3  137200            Baron du Val White  Baron du Val  France   \n",
       "4           4  137201  Benziger, Cabernet Sauvignon      Benziger     USA   \n",
       "\n",
       "         local1 local2 local3 local4          varieties1  ...    use    abv  \\\n",
       "0  Rapel Valley    NaN    NaN    NaN  Cabernet Sauvignon  ...  Table  14~15   \n",
       "1  Rapel Valley    NaN    NaN    NaN  Cabernet Sauvignon  ...  Table  14~15   \n",
       "2           NaN    NaN    NaN    NaN            Carignan  ...  Table  11~12   \n",
       "3           NaN    NaN    NaN    NaN            Carignan  ...  Table  11~12   \n",
       "4    California    NaN    NaN    NaN  Cabernet Sauvignon  ...  Table  13~14   \n",
       "\n",
       "  degree   sweet   acidity   body   tannin   price  year   ml  \n",
       "0  17~19  SWEET1  ACIDITY4  BODY5  TANNIN4  220000  2014  750  \n",
       "1  16~18  SWEET1  ACIDITY3  BODY4  TANNIN4  110000  2016  750  \n",
       "2  15~17  SWEET2  ACIDITY3  BODY2  TANNIN2       0     0  750  \n",
       "3   9~11  SWEET1  ACIDITY3  BODY2  TANNIN1       0     0  750  \n",
       "4  17~19  SWEET1  ACIDITY3  BODY3  TANNIN4       0  2003  750  \n",
       "\n",
       "[5 rows x 32 columns]"
      ]
     },
     "execution_count": 181,
     "metadata": {},
     "output_type": "execute_result"
    }
   ],
   "source": [
    "data.head(5)"
   ]
  },
  {
   "cell_type": "code",
   "execution_count": 182,
   "metadata": {},
   "outputs": [],
   "source": [
    "Italy=data[data.nation==\"Italy\"]"
   ]
  },
  {
   "cell_type": "code",
   "execution_count": 183,
   "metadata": {},
   "outputs": [],
   "source": [
    "Italy_Merlot=Italy[Italy.varieties1==\"Merlot\"]"
   ]
  },
  {
   "cell_type": "code",
   "execution_count": 203,
   "metadata": {},
   "outputs": [
    {
     "data": {
      "text/html": [
       "<div>\n",
       "<style scoped>\n",
       "    .dataframe tbody tr th:only-of-type {\n",
       "        vertical-align: middle;\n",
       "    }\n",
       "\n",
       "    .dataframe tbody tr th {\n",
       "        vertical-align: top;\n",
       "    }\n",
       "\n",
       "    .dataframe thead th {\n",
       "        text-align: right;\n",
       "    }\n",
       "</style>\n",
       "<table border=\"1\" class=\"dataframe\">\n",
       "  <thead>\n",
       "    <tr style=\"text-align: right;\">\n",
       "      <th></th>\n",
       "      <th>id</th>\n",
       "      <th>name</th>\n",
       "      <th>producer</th>\n",
       "      <th>nation</th>\n",
       "      <th>local1</th>\n",
       "      <th>local2</th>\n",
       "      <th>local3</th>\n",
       "      <th>local4</th>\n",
       "      <th>varieties1</th>\n",
       "      <th>varieties2</th>\n",
       "      <th>...</th>\n",
       "      <th>use</th>\n",
       "      <th>abv</th>\n",
       "      <th>degree</th>\n",
       "      <th>sweet</th>\n",
       "      <th>acidity</th>\n",
       "      <th>body</th>\n",
       "      <th>tannin</th>\n",
       "      <th>price</th>\n",
       "      <th>year</th>\n",
       "      <th>ml</th>\n",
       "    </tr>\n",
       "  </thead>\n",
       "  <tbody>\n",
       "    <tr>\n",
       "      <th>2207</th>\n",
       "      <td>140831</td>\n",
       "      <td>Frescobaldi, Lamaione</td>\n",
       "      <td>Frescobaldi</td>\n",
       "      <td>Italy</td>\n",
       "      <td>Toscana</td>\n",
       "      <td>NaN</td>\n",
       "      <td>NaN</td>\n",
       "      <td>NaN</td>\n",
       "      <td>Merlot</td>\n",
       "      <td>NaN</td>\n",
       "      <td>...</td>\n",
       "      <td>Table</td>\n",
       "      <td>14~15</td>\n",
       "      <td>17~20</td>\n",
       "      <td>SWEET1</td>\n",
       "      <td>ACIDITY3</td>\n",
       "      <td>BODY3</td>\n",
       "      <td>TANNIN3</td>\n",
       "      <td>125000</td>\n",
       "      <td>2014</td>\n",
       "      <td>750</td>\n",
       "    </tr>\n",
       "    <tr>\n",
       "      <th>2208</th>\n",
       "      <td>140832</td>\n",
       "      <td>Luce Della Vite, Lucente</td>\n",
       "      <td>Luce Della Vite</td>\n",
       "      <td>Italy</td>\n",
       "      <td>Toscana</td>\n",
       "      <td>NaN</td>\n",
       "      <td>NaN</td>\n",
       "      <td>NaN</td>\n",
       "      <td>Merlot</td>\n",
       "      <td>Sangiovese</td>\n",
       "      <td>...</td>\n",
       "      <td>Table</td>\n",
       "      <td>14~15</td>\n",
       "      <td>16~18</td>\n",
       "      <td>SWEET1</td>\n",
       "      <td>ACIDITY3</td>\n",
       "      <td>BODY4</td>\n",
       "      <td>TANNIN4</td>\n",
       "      <td>90000</td>\n",
       "      <td>2015</td>\n",
       "      <td>750</td>\n",
       "    </tr>\n",
       "    <tr>\n",
       "      <th>2562</th>\n",
       "      <td>141393</td>\n",
       "      <td>villa M Romeo</td>\n",
       "      <td>Gianni Gagliardo</td>\n",
       "      <td>Italy</td>\n",
       "      <td>Veneto</td>\n",
       "      <td>Verona</td>\n",
       "      <td>NaN</td>\n",
       "      <td>NaN</td>\n",
       "      <td>Merlot</td>\n",
       "      <td>Etc</td>\n",
       "      <td>...</td>\n",
       "      <td>Table</td>\n",
       "      <td>11</td>\n",
       "      <td>15~17</td>\n",
       "      <td>SWEET4</td>\n",
       "      <td>ACIDITY2</td>\n",
       "      <td>BODY2</td>\n",
       "      <td>TANNIN2</td>\n",
       "      <td>17000</td>\n",
       "      <td>0</td>\n",
       "      <td>750</td>\n",
       "    </tr>\n",
       "    <tr>\n",
       "      <th>2592</th>\n",
       "      <td>141429</td>\n",
       "      <td>Arceno Prima Voce</td>\n",
       "      <td>Jackson wine International Kendall Jackson</td>\n",
       "      <td>Italy</td>\n",
       "      <td>Toscana</td>\n",
       "      <td>NaN</td>\n",
       "      <td>NaN</td>\n",
       "      <td>NaN</td>\n",
       "      <td>Merlot</td>\n",
       "      <td>Cabernet Sauvignon</td>\n",
       "      <td>...</td>\n",
       "      <td>Table</td>\n",
       "      <td>13.5</td>\n",
       "      <td>15~18</td>\n",
       "      <td>SWEET1</td>\n",
       "      <td>ACIDITY3</td>\n",
       "      <td>BODY3</td>\n",
       "      <td>TANNIN3</td>\n",
       "      <td>90000</td>\n",
       "      <td>2006</td>\n",
       "      <td>750</td>\n",
       "    </tr>\n",
       "  </tbody>\n",
       "</table>\n",
       "<p>4 rows × 31 columns</p>\n",
       "</div>"
      ],
      "text/plain": [
       "          id                      name  \\\n",
       "2207  140831     Frescobaldi, Lamaione   \n",
       "2208  140832  Luce Della Vite, Lucente   \n",
       "2562  141393             villa M Romeo   \n",
       "2592  141429         Arceno Prima Voce   \n",
       "\n",
       "                                        producer nation   local1  local2  \\\n",
       "2207                                 Frescobaldi  Italy  Toscana     NaN   \n",
       "2208                             Luce Della Vite  Italy  Toscana     NaN   \n",
       "2562                            Gianni Gagliardo  Italy   Veneto  Verona   \n",
       "2592  Jackson wine International Kendall Jackson  Italy  Toscana     NaN   \n",
       "\n",
       "     local3 local4 varieties1          varieties2  ...    use    abv degree  \\\n",
       "2207    NaN    NaN     Merlot                 NaN  ...  Table  14~15  17~20   \n",
       "2208    NaN    NaN     Merlot          Sangiovese  ...  Table  14~15  16~18   \n",
       "2562    NaN    NaN     Merlot                 Etc  ...  Table     11  15~17   \n",
       "2592    NaN    NaN     Merlot  Cabernet Sauvignon  ...  Table   13.5  15~18   \n",
       "\n",
       "       sweet   acidity   body   tannin   price  year   ml  \n",
       "2207  SWEET1  ACIDITY3  BODY3  TANNIN3  125000  2014  750  \n",
       "2208  SWEET1  ACIDITY3  BODY4  TANNIN4   90000  2015  750  \n",
       "2562  SWEET4  ACIDITY2  BODY2  TANNIN2   17000     0  750  \n",
       "2592  SWEET1  ACIDITY3  BODY3  TANNIN3   90000  2006  750  \n",
       "\n",
       "[4 rows x 31 columns]"
      ]
     },
     "execution_count": 203,
     "metadata": {},
     "output_type": "execute_result"
    }
   ],
   "source": [
    "Italy_Merlot.iloc[23:27,1:34]"
   ]
  },
  {
   "cell_type": "markdown",
   "metadata": {},
   "source": [
    "## Qualità da vivino.it"
   ]
  },
  {
   "cell_type": "code",
   "execution_count": null,
   "metadata": {},
   "outputs": [],
   "source": [
    "# https://www.vivino.com/search/wines?q=Citra%2CMerlot+2012\n",
    "# https://www.vivino.com/search/wines?q=Geografico%2CPulleraia+2012\n",
    "# https://www.vivino.com/search/wines?q=Castello+di+Ama%2CL%27apparita+2014\n"
   ]
  },
  {
   "cell_type": "markdown",
   "metadata": {},
   "source": [
    "troppi assenti: conviene convertire il prezzo in euro e poi cercare a mano il prezzo dei vini mancanti--> lo faccio alla fine."
   ]
  },
  {
   "cell_type": "markdown",
   "metadata": {},
   "source": [
    "## Latitudine e Longitudine"
   ]
  },
  {
   "cell_type": "code",
   "execution_count": 244,
   "metadata": {},
   "outputs": [],
   "source": [
    "### libraries\n",
    "import requests\n",
    "import urllib.parse\n",
    "import time\n",
    "import bs4\n",
    "from tqdm import tqdm\n"
   ]
  },
  {
   "cell_type": "code",
   "execution_count": 204,
   "metadata": {},
   "outputs": [],
   "source": [
    "def geo_indication_wine(producer):\n",
    "    #this function return cap and a geographical indication making an request until it succeds having as input the producer\n",
    "    url=\"https://aziendevinicole.it/cerca_aziendevinicole_per_testo_\"+producer+\".html\"\n",
    "\n",
    "    res1=requests.get(url)\n",
    "    status=res1.status_code\n",
    "    \n",
    "    #if i have an error,i keep asking \n",
    "    while (status !=200):\n",
    "        res1=requests.get(url)\n",
    "        status=res1.status_code\n",
    "        time.sleep(0.5)\n",
    "    \n",
    "    #extract information\n",
    "    try:\n",
    "        soup=bs4.BeautifulSoup(res1.text,'html.parser')\n",
    "        overflow=soup.find('div',class_=\"overflow\")\n",
    "        p=overflow.find_all('p')\n",
    "        my_string=str(p)\n",
    "        my_string=my_string.split(\"br\")[1]\n",
    "        my_string=my_string[2:]\n",
    "        posto=my_string.split(\"-\")[0]\n",
    "    except:\n",
    "        posto=\"errore\"\n",
    "\n",
    "    return posto"
   ]
  },
  {
   "cell_type": "code",
   "execution_count": 209,
   "metadata": {},
   "outputs": [
    {
     "data": {
      "text/plain": [
       "'33050 Trivignano Udinese (UDINE) '"
      ]
     },
     "execution_count": 209,
     "metadata": {},
     "output_type": "execute_result"
    }
   ],
   "source": [
    "\n",
    "#example\n",
    "riga=78\n",
    "\n",
    "producer=Italy_Merlot['producer'].iloc[riga]\n",
    "\n",
    "geo_indication_wine(producer)"
   ]
  },
  {
   "cell_type": "code",
   "execution_count": 196,
   "metadata": {},
   "outputs": [
    {
     "data": {
      "text/plain": [
       "'Gianni Gagliardo'"
      ]
     },
     "execution_count": 196,
     "metadata": {},
     "output_type": "execute_result"
    }
   ],
   "source": [
    "#example\n",
    "riga=25\n",
    "\n",
    "#producer=Italy_Merlot['producer'].iloc[riga]\n",
    "#nation=Italy_Merlot['nation'].iloc[riga]\n",
    "#region=Italy_Merlot['local1'].iloc[riga]\n",
    "\n",
    "#posto=producer\n",
    "#posto\n",
    "producer"
   ]
  },
  {
   "cell_type": "markdown",
   "metadata": {},
   "source": [
    "### prima devo recuperare il cap per identificare per bene l'azienda perchè altrimenti non sempre riesco a trovarla\n",
    "uso il sito: https://aziendevinicole.it/cerca_aziendevinicole_per_testo_castello%20di%20ama.html"
   ]
  },
  {
   "cell_type": "code",
   "execution_count": 212,
   "metadata": {},
   "outputs": [],
   "source": [
    "#codice iniziale prova\n",
    "''''\n",
    "url=\"https://aziendevinicole.it/aziendevinicole.html\"\n",
    "url=\"https://aziendevinicole.it/cerca_aziendevinicole_per_testo_\"+producer+\".html\"\n",
    "#props = {\"q\":producer}\n",
    "res1.status_code\n",
    "\n",
    "res1=requests.get(url)#,params={\"Denominazione\":producer})\n",
    "soup=bs4.BeautifulSoup(res1.text,'html.parser')\n",
    "wewe=soup.find('div',class_=\"overflow\")\n",
    "wewe\n",
    "ei=wewe.find_all('p')\n",
    "ei\n",
    "wela=str(ei)\n",
    "wela=wela.split(\"br\")[1]\n",
    "wela=wela[2:]\n",
    "posto=wela.split(\"-\")[0]\n",
    "posto\n",
    "''';\n"
   ]
  },
  {
   "cell_type": "markdown",
   "metadata": {},
   "source": [
    "continua per cercare long e lat"
   ]
  },
  {
   "cell_type": "code",
   "execution_count": 252,
   "metadata": {},
   "outputs": [],
   "source": [
    "def lat_long(posto):\n",
    "    #this function returns the latitude and longitude of a given place\n",
    "    if posto==\"errore\":\n",
    "        lat=\"sconosciuta\"\n",
    "        long=\"sconosciuta\"\n",
    "    else:\n",
    "        try:\n",
    "            url = 'https://nominatim.openstreetmap.org/search/' + urllib.parse.quote(posto) +'?format=json'\n",
    "            response = requests.get(url).json()\n",
    "            lat=response[0][\"lat\"]\n",
    "            long=response[0][\"lon\"]\n",
    "        except:\n",
    "            lat=\"sconosciuta\"\n",
    "            long=\"sconosciuta\"\n",
    "\n",
    "    return lat,long"
   ]
  },
  {
   "cell_type": "code",
   "execution_count": 214,
   "metadata": {},
   "outputs": [],
   "source": [
    "\n",
    "#codice prova iniziale\n",
    "'''\n",
    "address = posto\n",
    "url = 'https://nominatim.openstreetmap.org/search/' + urllib.parse.quote(address) +'?format=json'\n",
    "\n",
    "response = requests.get(url).json()\n",
    "print(response[0][\"lat\"])\n",
    "print(response[0][\"lon\"])\n",
    "''';"
   ]
  },
  {
   "cell_type": "code",
   "execution_count": 219,
   "metadata": {},
   "outputs": [
    {
     "name": "stdout",
     "output_type": "stream",
     "text": [
      "45.9434149\n",
      "13.3406411\n"
     ]
    }
   ],
   "source": [
    "#example\n",
    "posto=geo_indication_wine(producer)\n",
    "lat,long=lat_long(posto)\n",
    "print(lat)\n",
    "print(long)"
   ]
  },
  {
   "cell_type": "code",
   "execution_count": 220,
   "metadata": {},
   "outputs": [],
   "source": [
    "#altre prove\n",
    "'''\n",
    "from geopy.geocoders import Nominatim\n",
    "geolocator = Nominatim(user_agent=\"my_user_agent\")\n",
    "city =\"London\"\n",
    "country =\"Uk\"\n",
    "loc = geolocator.geocode(posto)\n",
    "print(\"latitude is :-\" ,loc.latitude,\"\\nlongtitude is:-\" ,loc.longitude)\n",
    "''';"
   ]
  },
  {
   "cell_type": "markdown",
   "metadata": {},
   "source": [
    "provo ad aggiungere le colonne latitudine elongitudine ai posti"
   ]
  },
  {
   "cell_type": "code",
   "execution_count": 224,
   "metadata": {},
   "outputs": [
    {
     "name": "stderr",
     "output_type": "stream",
     "text": [
      "/var/folders/xr/79bkvytj5kd5th_p5bnz8bhh0000gn/T/ipykernel_39080/2356314392.py:1: SettingWithCopyWarning: \n",
      "A value is trying to be set on a copy of a slice from a DataFrame.\n",
      "Try using .loc[row_indexer,col_indexer] = value instead\n",
      "\n",
      "See the caveats in the documentation: https://pandas.pydata.org/pandas-docs/stable/user_guide/indexing.html#returning-a-view-versus-a-copy\n",
      "  Italy_Merlot[\"latitudine\"]=np.nan\n",
      "/var/folders/xr/79bkvytj5kd5th_p5bnz8bhh0000gn/T/ipykernel_39080/2356314392.py:2: SettingWithCopyWarning: \n",
      "A value is trying to be set on a copy of a slice from a DataFrame.\n",
      "Try using .loc[row_indexer,col_indexer] = value instead\n",
      "\n",
      "See the caveats in the documentation: https://pandas.pydata.org/pandas-docs/stable/user_guide/indexing.html#returning-a-view-versus-a-copy\n",
      "  Italy_Merlot[\"longitudine\"]=np.nan\n"
     ]
    }
   ],
   "source": [
    "Italy_Merlot[\"latitudine\"]=np.nan\n",
    "Italy_Merlot[\"longitudine\"]=np.nan"
   ]
  },
  {
   "cell_type": "code",
   "execution_count": 255,
   "metadata": {},
   "outputs": [
    {
     "name": "stderr",
     "output_type": "stream",
     "text": [
      "100%|██████████| 169/169 [05:08<00:00,  1.82s/it]\n"
     ]
    }
   ],
   "source": [
    "\n",
    "for row in tqdm(range(0,len(Italy_Merlot))):\n",
    "\n",
    "    producer=Italy_Merlot['producer'].iloc[row];\n",
    "    posto=geo_indication_wine(producer)\n",
    "    lat,long=lat_long(posto)\n",
    "    #metto nel dataframe\n",
    "    Italy_Merlot['latitudine'].iloc[row]=lat;\n",
    "    Italy_Merlot['longitudine'].iloc[row]=long;\n",
    "    \n",
    "   \n",
    "    "
   ]
  },
  {
   "cell_type": "markdown",
   "metadata": {},
   "source": [
    " devo recuperare latitudine e longitudine a mano"
   ]
  },
  {
   "cell_type": "code",
   "execution_count": 265,
   "metadata": {},
   "outputs": [
    {
     "data": {
      "text/html": [
       "<div>\n",
       "<style scoped>\n",
       "    .dataframe tbody tr th:only-of-type {\n",
       "        vertical-align: middle;\n",
       "    }\n",
       "\n",
       "    .dataframe tbody tr th {\n",
       "        vertical-align: top;\n",
       "    }\n",
       "\n",
       "    .dataframe thead th {\n",
       "        text-align: right;\n",
       "    }\n",
       "</style>\n",
       "<table border=\"1\" class=\"dataframe\">\n",
       "  <thead>\n",
       "    <tr style=\"text-align: right;\">\n",
       "      <th></th>\n",
       "      <th>Unnamed: 0</th>\n",
       "      <th>id</th>\n",
       "      <th>name</th>\n",
       "      <th>producer</th>\n",
       "      <th>nation</th>\n",
       "      <th>local1</th>\n",
       "      <th>local2</th>\n",
       "      <th>local3</th>\n",
       "      <th>local4</th>\n",
       "      <th>varieties1</th>\n",
       "      <th>...</th>\n",
       "      <th>degree</th>\n",
       "      <th>sweet</th>\n",
       "      <th>acidity</th>\n",
       "      <th>body</th>\n",
       "      <th>tannin</th>\n",
       "      <th>price</th>\n",
       "      <th>year</th>\n",
       "      <th>ml</th>\n",
       "      <th>latitudine</th>\n",
       "      <th>longitudine</th>\n",
       "    </tr>\n",
       "  </thead>\n",
       "  <tbody>\n",
       "    <tr>\n",
       "      <th>1290</th>\n",
       "      <td>1290</td>\n",
       "      <td>139447</td>\n",
       "      <td>Folonari, Bolgheri Campo Al Mare</td>\n",
       "      <td>Tenute Ambrogio e Giovanni Folonari</td>\n",
       "      <td>Italy</td>\n",
       "      <td>Toscana</td>\n",
       "      <td>Bolgheri</td>\n",
       "      <td>NaN</td>\n",
       "      <td>NaN</td>\n",
       "      <td>Merlot</td>\n",
       "      <td>...</td>\n",
       "      <td>16~18</td>\n",
       "      <td>SWEET1</td>\n",
       "      <td>ACIDITY3</td>\n",
       "      <td>BODY4</td>\n",
       "      <td>TANNIN4</td>\n",
       "      <td>0</td>\n",
       "      <td>2007</td>\n",
       "      <td>750</td>\n",
       "      <td>sconosciuta</td>\n",
       "      <td>sconosciuta</td>\n",
       "    </tr>\n",
       "    <tr>\n",
       "      <th>1737</th>\n",
       "      <td>1737</td>\n",
       "      <td>140019</td>\n",
       "      <td>Falesco, Montiano</td>\n",
       "      <td>Falesco Vitiano</td>\n",
       "      <td>Italy</td>\n",
       "      <td>Lazio</td>\n",
       "      <td>NaN</td>\n",
       "      <td>NaN</td>\n",
       "      <td>NaN</td>\n",
       "      <td>Merlot</td>\n",
       "      <td>...</td>\n",
       "      <td>16~18</td>\n",
       "      <td>SWEET1</td>\n",
       "      <td>ACIDITY3</td>\n",
       "      <td>BODY4</td>\n",
       "      <td>TANNIN4</td>\n",
       "      <td>158000</td>\n",
       "      <td>2009</td>\n",
       "      <td>750</td>\n",
       "      <td>sconosciuta</td>\n",
       "      <td>sconosciuta</td>\n",
       "    </tr>\n",
       "    <tr>\n",
       "      <th>1813</th>\n",
       "      <td>1813</td>\n",
       "      <td>140155</td>\n",
       "      <td>Roberto Voerzio, Langhe Da Uva Merlot Fontanazza</td>\n",
       "      <td>Roberto Voerzio</td>\n",
       "      <td>Italy</td>\n",
       "      <td>Piemonte</td>\n",
       "      <td>Langhe</td>\n",
       "      <td>NaN</td>\n",
       "      <td>NaN</td>\n",
       "      <td>Merlot</td>\n",
       "      <td>...</td>\n",
       "      <td>16~18</td>\n",
       "      <td>SWEET1</td>\n",
       "      <td>ACIDITY4</td>\n",
       "      <td>BODY5</td>\n",
       "      <td>TANNIN4</td>\n",
       "      <td>250000</td>\n",
       "      <td>2011</td>\n",
       "      <td>750</td>\n",
       "      <td>sconosciuta</td>\n",
       "      <td>sconosciuta</td>\n",
       "    </tr>\n",
       "    <tr>\n",
       "      <th>2017</th>\n",
       "      <td>2017</td>\n",
       "      <td>140476</td>\n",
       "      <td>Ecco Domani, Merlot delle Venezie</td>\n",
       "      <td>Ecco Domani</td>\n",
       "      <td>Italy</td>\n",
       "      <td>NaN</td>\n",
       "      <td>NaN</td>\n",
       "      <td>NaN</td>\n",
       "      <td>NaN</td>\n",
       "      <td>Merlot</td>\n",
       "      <td>...</td>\n",
       "      <td>17~19</td>\n",
       "      <td>SWEET1</td>\n",
       "      <td>ACIDITY3</td>\n",
       "      <td>BODY3</td>\n",
       "      <td>TANNIN3</td>\n",
       "      <td>0</td>\n",
       "      <td>2005</td>\n",
       "      <td>750</td>\n",
       "      <td>sconosciuta</td>\n",
       "      <td>sconosciuta</td>\n",
       "    </tr>\n",
       "    <tr>\n",
       "      <th>2562</th>\n",
       "      <td>2562</td>\n",
       "      <td>141393</td>\n",
       "      <td>villa M Romeo</td>\n",
       "      <td>Gianni Gagliardo</td>\n",
       "      <td>Italy</td>\n",
       "      <td>Veneto</td>\n",
       "      <td>Verona</td>\n",
       "      <td>NaN</td>\n",
       "      <td>NaN</td>\n",
       "      <td>Merlot</td>\n",
       "      <td>...</td>\n",
       "      <td>15~17</td>\n",
       "      <td>SWEET4</td>\n",
       "      <td>ACIDITY2</td>\n",
       "      <td>BODY2</td>\n",
       "      <td>TANNIN2</td>\n",
       "      <td>17000</td>\n",
       "      <td>0</td>\n",
       "      <td>750</td>\n",
       "      <td>sconosciuta</td>\n",
       "      <td>sconosciuta</td>\n",
       "    </tr>\n",
       "  </tbody>\n",
       "</table>\n",
       "<p>5 rows × 34 columns</p>\n",
       "</div>"
      ],
      "text/plain": [
       "      Unnamed: 0      id                                              name  \\\n",
       "1290        1290  139447                  Folonari, Bolgheri Campo Al Mare   \n",
       "1737        1737  140019                                 Falesco, Montiano   \n",
       "1813        1813  140155  Roberto Voerzio, Langhe Da Uva Merlot Fontanazza   \n",
       "2017        2017  140476                 Ecco Domani, Merlot delle Venezie   \n",
       "2562        2562  141393                                     villa M Romeo   \n",
       "\n",
       "                                 producer nation    local1    local2 local3  \\\n",
       "1290  Tenute Ambrogio e Giovanni Folonari  Italy   Toscana  Bolgheri    NaN   \n",
       "1737                      Falesco Vitiano  Italy     Lazio       NaN    NaN   \n",
       "1813                      Roberto Voerzio  Italy  Piemonte    Langhe    NaN   \n",
       "2017                          Ecco Domani  Italy       NaN       NaN    NaN   \n",
       "2562                     Gianni Gagliardo  Italy    Veneto    Verona    NaN   \n",
       "\n",
       "     local4 varieties1  ... degree   sweet   acidity   body   tannin   price  \\\n",
       "1290    NaN     Merlot  ...  16~18  SWEET1  ACIDITY3  BODY4  TANNIN4       0   \n",
       "1737    NaN     Merlot  ...  16~18  SWEET1  ACIDITY3  BODY4  TANNIN4  158000   \n",
       "1813    NaN     Merlot  ...  16~18  SWEET1  ACIDITY4  BODY5  TANNIN4  250000   \n",
       "2017    NaN     Merlot  ...  17~19  SWEET1  ACIDITY3  BODY3  TANNIN3       0   \n",
       "2562    NaN     Merlot  ...  15~17  SWEET4  ACIDITY2  BODY2  TANNIN2   17000   \n",
       "\n",
       "      year   ml   latitudine  longitudine  \n",
       "1290  2007  750  sconosciuta  sconosciuta  \n",
       "1737  2009  750  sconosciuta  sconosciuta  \n",
       "1813  2011  750  sconosciuta  sconosciuta  \n",
       "2017  2005  750  sconosciuta  sconosciuta  \n",
       "2562     0  750  sconosciuta  sconosciuta  \n",
       "\n",
       "[5 rows x 34 columns]"
      ]
     },
     "execution_count": 265,
     "metadata": {},
     "output_type": "execute_result"
    }
   ],
   "source": [
    "Italy_Merlot.loc[Italy_Merlot['latitudine']==\"sconosciuta\"].iloc[0:5]"
   ]
  },
  {
   "cell_type": "code",
   "execution_count": 278,
   "metadata": {},
   "outputs": [
    {
     "name": "stderr",
     "output_type": "stream",
     "text": [
      "/Users/leonardoplini/opt/anaconda3/envs/fds/lib/python3.8/site-packages/pandas/core/indexing.py:1773: SettingWithCopyWarning: \n",
      "A value is trying to be set on a copy of a slice from a DataFrame.\n",
      "Try using .loc[row_indexer,col_indexer] = value instead\n",
      "\n",
      "See the caveats in the documentation: https://pandas.pydata.org/pandas-docs/stable/user_guide/indexing.html#returning-a-view-versus-a-copy\n",
      "  self._setitem_single_column(ilocs[0], value, pi)\n",
      "/Users/leonardoplini/opt/anaconda3/envs/fds/lib/python3.8/site-packages/pandas/core/indexing.py:1817: SettingWithCopyWarning: \n",
      "A value is trying to be set on a copy of a slice from a DataFrame.\n",
      "Try using .loc[row_indexer,col_indexer] = value instead\n",
      "\n",
      "See the caveats in the documentation: https://pandas.pydata.org/pandas-docs/stable/user_guide/indexing.html#returning-a-view-versus-a-copy\n",
      "  self._setitem_single_column(loc, value, pi)\n"
     ]
    }
   ],
   "source": [
    "#example\n",
    "'''\n",
    "lat=43.628413362016374, \n",
    "long=11.285756423982699\n",
    "Italy_Merlot.loc[Italy_Merlot['id']==139447,'latitudine']=lat;\n",
    "Italy_Merlot.loc[Italy_Merlot['id']==139447,'longitudine']=long;\n",
    "'''"
   ]
  },
  {
   "cell_type": "code",
   "execution_count": 453,
   "metadata": {},
   "outputs": [],
   "source": [
    "long_lat_data=Italy_Merlot"
   ]
  },
  {
   "cell_type": "code",
   "execution_count": 530,
   "metadata": {},
   "outputs": [],
   "source": [
    "ei=[ 45.76817166673115, 12.902619116141556 ]\n",
    "lat=ei[0]\n",
    "long=ei[1]\n",
    "\n",
    "id=  137432\n",
    "\n",
    "Italy_Merlot.loc[Italy_Merlot['id']==id\t,'latitudine']=lat;\n",
    "Italy_Merlot.loc[Italy_Merlot['id']==id ,'longitudine']=long;"
   ]
  },
  {
   "cell_type": "code",
   "execution_count": 531,
   "metadata": {},
   "outputs": [
    {
     "data": {
      "text/html": [
       "<div>\n",
       "<style scoped>\n",
       "    .dataframe tbody tr th:only-of-type {\n",
       "        vertical-align: middle;\n",
       "    }\n",
       "\n",
       "    .dataframe tbody tr th {\n",
       "        vertical-align: top;\n",
       "    }\n",
       "\n",
       "    .dataframe thead th {\n",
       "        text-align: right;\n",
       "    }\n",
       "</style>\n",
       "<table border=\"1\" class=\"dataframe\">\n",
       "  <thead>\n",
       "    <tr style=\"text-align: right;\">\n",
       "      <th></th>\n",
       "      <th>Unnamed: 0</th>\n",
       "      <th>id</th>\n",
       "      <th>name</th>\n",
       "      <th>producer</th>\n",
       "      <th>nation</th>\n",
       "      <th>local1</th>\n",
       "      <th>local2</th>\n",
       "      <th>local3</th>\n",
       "      <th>local4</th>\n",
       "      <th>varieties1</th>\n",
       "      <th>...</th>\n",
       "      <th>ml</th>\n",
       "      <th>latitudine</th>\n",
       "      <th>longitudine</th>\n",
       "      <th>cec</th>\n",
       "      <th>cfvo</th>\n",
       "      <th>clay</th>\n",
       "      <th>nitrogen</th>\n",
       "      <th>phh2o</th>\n",
       "      <th>sand</th>\n",
       "      <th>silt</th>\n",
       "    </tr>\n",
       "  </thead>\n",
       "  <tbody>\n",
       "  </tbody>\n",
       "</table>\n",
       "<p>0 rows × 41 columns</p>\n",
       "</div>"
      ],
      "text/plain": [
       "Empty DataFrame\n",
       "Columns: [Unnamed: 0, id, name, producer, nation, local1, local2, local3, local4, varieties1, varieties2, varieties3, varieties4, varieties5, varieties6, varieties7, varieties8, varieties9, varieties10, varieties11, varieties12, type, use, abv, degree, sweet, acidity, body, tannin, price, year, ml, latitudine, longitudine, cec, cfvo, clay, nitrogen, phh2o, sand, silt]\n",
       "Index: []\n",
       "\n",
       "[0 rows x 41 columns]"
      ]
     },
     "execution_count": 531,
     "metadata": {},
     "output_type": "execute_result"
    }
   ],
   "source": [
    "Italy_Merlot.loc[Italy_Merlot['latitudine']==\"sconosciuta\"].iloc[2:15]"
   ]
  },
  {
   "cell_type": "code",
   "execution_count": 465,
   "metadata": {},
   "outputs": [],
   "source": [
    "Italy_Merlot=long_lat_data"
   ]
  },
  {
   "cell_type": "markdown",
   "metadata": {},
   "source": [
    "da eliminare: \n",
    "* 140476 ecco domani ( non si trova niente sulla collocazione geografica)\n",
    "* 148901 Feudo di Maria Merlot\tFeudo di Maria ( non si trova nulla)\n",
    "* 149319 Intense Prestige Merlot Cabernet\n",
    "* 167903\tMannara Merlot\n"
   ]
  },
  {
   "cell_type": "code",
   "execution_count": 470,
   "metadata": {},
   "outputs": [],
   "source": [
    "Italy_Merlot=Italy_Merlot[Italy_Merlot['id']!=140476]\n",
    "Italy_Merlot=Italy_Merlot[Italy_Merlot['id']!=148901]\n",
    "Italy_Merlot=Italy_Merlot[Italy_Merlot['id']!=149319]\n",
    "Italy_Merlot=Italy_Merlot[Italy_Merlot['id']!=167903]"
   ]
  },
  {
   "cell_type": "code",
   "execution_count": 532,
   "metadata": {},
   "outputs": [],
   "source": [
    "Italy_Merlot.to_csv('longitudine-latitudine.csv')"
   ]
  },
  {
   "cell_type": "markdown",
   "metadata": {},
   "source": [
    "Riassumendo fin qui: ho trovato la latitudine e la longitudine delle mie etichette ma ho dovuto eliminare i dati 4 dati con id=140476,148901,149319,167903 per insufficienza di informazioni. Ho creato la prima versione del dataset nominata longitudine-latitudine.csv che ha 167 osservazioni."
   ]
  },
  {
   "cell_type": "markdown",
   "metadata": {},
   "source": [
    "# Suolo"
   ]
  },
  {
   "cell_type": "code",
   "execution_count": 482,
   "metadata": {},
   "outputs": [],
   "source": [
    "\n",
    "#cec=\tCation Exchange Capacity of the soil \tcmol(c)/kg\n",
    "#cfvo\tVolumetric fraction of coarse fragments (> 2 mm) cm3/100cm3 (vol%)\n",
    "#clay\tProportion of clay particles (< 0.002 mm) in the fine earth fraction g/100g (%)\n",
    "#nitrogen\tTotal nitrogen (N)\tcg/kg\t100\tg/kg\n",
    "#phh2o\tSoil pH\tpHx10\t10\tpH\n",
    "#sand\tProportion of sand particles (> 0.05 mm) in the fine earth fraction\tg/kg\tg/100g (%)\n",
    "\n",
    "#silt\tProportion of silt particles (≥ 0.002 mm and ≤ 0.05 mm) in the fine earth fraction\tg/kg\t\tg/100g (%)\n",
    "\n",
    "\n",
    "#NON USO:\n",
    "#bdod=Bulk density of the fine earth fraction kg/dm³\n",
    "#soc\tSoil organic carbon content in the fine earth fraction\tdg/kg\t10\tg/kg\n",
    "#ocd\tOrganic carbon density\thg/m³\t10\tkg/m³\n",
    "#ocs\tOrganic carbon stocks\tt/ha\t10\tkg/m²\n"
   ]
  },
  {
   "cell_type": "code",
   "execution_count": 483,
   "metadata": {},
   "outputs": [
    {
     "name": "stdout",
     "output_type": "stream",
     "text": [
      "131\n"
     ]
    }
   ],
   "source": [
    "#codice iniziale\n",
    "import requests\n",
    "lat=45.4917847\n",
    "lon=11.3113331\n",
    "\n",
    "p1={\"lat\":lat,\"lon\":lon}\n",
    "\n",
    "rest_url = \"https://rest.isric.org\"\n",
    "prop_query_url = f\"{rest_url}/soilgrids/v2.0/properties/query\"\n",
    "\n",
    "props = {\"property\":[\"cec\",\"cfvo\",\"clay\",\"nitrogen\",\"phh2o\",\"sand\",\"silt\"],\"depth\":\"0-5cm\",\"value\":\"mean\"}\n",
    "\n",
    "res1=requests.get(prop_query_url,params={**p1 , **props})\n",
    "print(res1.json()['properties'][\"layers\"][1][\"depths\"][0][\"values\"]['mean'])"
   ]
  },
  {
   "cell_type": "code",
   "execution_count": 488,
   "metadata": {},
   "outputs": [],
   "source": [
    "\n"
   ]
  },
  {
   "cell_type": "code",
   "execution_count": 506,
   "metadata": {},
   "outputs": [],
   "source": [
    "#funzione utilizzata\n",
    "def soil_properties(lat,lon):\n",
    "    #this function exstract soil properies given latitude and longitute of a row\n",
    "\n",
    "    #note: for urban area, return None\n",
    "\n",
    "    p1={\"lat\":lat,\"lon\":lon}\n",
    "\n",
    "    rest_url = \"https://rest.isric.org\"\n",
    "    prop_query_url = f\"{rest_url}/soilgrids/v2.0/properties/query\"\n",
    "\n",
    "    props = {\"property\":[\"cec\",\"cfvo\",\"clay\",\"nitrogen\",\"phh2o\",\"sand\",\"silt\"],\"depth\":\"0-5cm\",\"value\":\"mean\"}\n",
    "\n",
    "    res1=requests.get(prop_query_url,params={**p1 , **props})\n",
    "\n",
    "    cec=res1.json()['properties'][\"layers\"][0][\"depths\"][0][\"values\"]['mean']\n",
    "    cfvo=res1.json()['properties'][\"layers\"][1][\"depths\"][0][\"values\"]['mean']\n",
    "    clay=res1.json()['properties'][\"layers\"][2][\"depths\"][0][\"values\"]['mean']\n",
    "    nitrogen=res1.json()['properties'][\"layers\"][3][\"depths\"][0][\"values\"]['mean']\n",
    "    phh2o=res1.json()['properties'][\"layers\"][4][\"depths\"][0][\"values\"]['mean']\n",
    "    sand=res1.json()['properties'][\"layers\"][5][\"depths\"][0][\"values\"]['mean']\n",
    "    silt=res1.json()['properties'][\"layers\"][6][\"depths\"][0][\"values\"]['mean']\n",
    "\n",
    "    return {'cec': cec, 'cfvo': cfvo ,'clay': clay, 'nitrogen':nitrogen,'phh2o':phh2o,  'sand': sand, 'silt':silt}\n"
   ]
  },
  {
   "cell_type": "code",
   "execution_count": 543,
   "metadata": {},
   "outputs": [
    {
     "data": {
      "text/plain": [
       "12.902619116141556"
      ]
     },
     "execution_count": 543,
     "metadata": {},
     "output_type": "execute_result"
    }
   ],
   "source": [
    "row=0\n",
    "lat=Italy_Merlot.iloc[row]['latitudine']\n",
    "lon=Italy_Merlot.iloc[row]['longitudine']\n",
    "\n",
    "lon"
   ]
  },
  {
   "cell_type": "code",
   "execution_count": 545,
   "metadata": {},
   "outputs": [
    {
     "data": {
      "text/plain": [
       "{'cec': None,\n",
       " 'cfvo': None,\n",
       " 'clay': None,\n",
       " 'nitrogen': None,\n",
       " 'phh2o': None,\n",
       " 'sand': None,\n",
       " 'silt': None}"
      ]
     },
     "execution_count": 545,
     "metadata": {},
     "output_type": "execute_result"
    }
   ],
   "source": [
    "ris=soil_properties(lat,lon)\n",
    "ris"
   ]
  },
  {
   "cell_type": "code",
   "execution_count": 507,
   "metadata": {},
   "outputs": [],
   "source": [
    "#create new columns for the df\n",
    "Italy_Merlot[\"cec\"]=np.nan\n",
    "Italy_Merlot[\"cfvo\"]=np.nan\n",
    "Italy_Merlot[\"clay\"]=np.nan\n",
    "Italy_Merlot[\"nitrogen\"]=np.nan\n",
    "Italy_Merlot[\"phh2o\"]=np.nan\n",
    "Italy_Merlot[\"sand\"]=np.nan\n",
    "Italy_Merlot[\"silt\"]=np.nan\n",
    "\n"
   ]
  },
  {
   "cell_type": "code",
   "execution_count": 548,
   "metadata": {},
   "outputs": [
    {
     "name": "stderr",
     "output_type": "stream",
     "text": [
      "  0%|          | 0/166 [00:00<?, ?it/s]/Users/leonardoplini/opt/anaconda3/envs/fds/lib/python3.8/site-packages/pandas/core/indexing.py:1732: SettingWithCopyWarning: \n",
      "A value is trying to be set on a copy of a slice from a DataFrame\n",
      "\n",
      "See the caveats in the documentation: https://pandas.pydata.org/pandas-docs/stable/user_guide/indexing.html#returning-a-view-versus-a-copy\n",
      "  self._setitem_single_block(indexer, value, name)\n",
      "100%|██████████| 166/166 [00:56<00:00,  2.92it/s]\n"
     ]
    }
   ],
   "source": [
    "#inserisco i nuovi valori\n",
    "for row in tqdm(range(0,len(Italy_Merlot))):\n",
    "    lat=Italy_Merlot.iloc[row]['latitudine']\n",
    "    lon=Italy_Merlot.iloc[row]['longitudine']\n",
    "\n",
    "    ris=soil_properties(lat,lon)\n",
    "\n",
    "    cec=ris['cec']\n",
    "    cfvo=ris['cfvo']\n",
    "    clay=ris['clay']\n",
    "    nitrogen=ris['nitrogen']\n",
    "    phh2o=ris['phh2o']\n",
    "    sand=ris['sand']\n",
    "    silt=ris['silt']\n",
    "    \n",
    "    #inserisco\n",
    "    Italy_Merlot['cec'].iloc[row]=cec;\n",
    "    Italy_Merlot['cfvo'].iloc[row]=cfvo;\n",
    "    Italy_Merlot['clay'].iloc[row]=clay;\n",
    "    Italy_Merlot['nitrogen'].iloc[row]=nitrogen;\n",
    "    Italy_Merlot['phh2o'].iloc[row]=phh2o;\n",
    "    Italy_Merlot['sand'].iloc[row]=sand;\n",
    "    Italy_Merlot['silt'].iloc[row]=silt;"
   ]
  },
  {
   "cell_type": "code",
   "execution_count": 556,
   "metadata": {},
   "outputs": [],
   "source": [
    "#len(Italy_Merlot[Italy_Merlot['cec'].isna()])-->45 Nan\n",
    "soil_data=Italy_Merlot"
   ]
  },
  {
   "cell_type": "markdown",
   "metadata": {},
   "source": [
    "## NOTA: ho trovato 45 valori NULL che significa che la longitudine e la latitudine corrispondono a zone urbana: se la numerosità dei dati fosse insufficiente, si potrebbe recuperare a mano latitudine e longitudine per cercare di nuovo i dati del suolo. \n",
    "\n",
    "## Nel frattempo, ho scelto di eliminare le righe che hanno dati del suolo NAN ottenendo un nuovo dataset  che chiamero soil_data.csv con 122 osservazioni"
   ]
  },
  {
   "cell_type": "code",
   "execution_count": 587,
   "metadata": {},
   "outputs": [],
   "source": [
    "#soil_data[soil_data['cec'].isna()]"
   ]
  },
  {
   "cell_type": "code",
   "execution_count": 582,
   "metadata": {},
   "outputs": [],
   "source": [
    "#elimino le righe con i Nan\n",
    "#Italy_Merlot=Italy_Merlot[Italy_Merlot['id']!=140476]\n",
    "id=soil_data[soil_data['cec'].isna()]['id']\n",
    "id=list(id)\n",
    "for  i in range(0,len(id)):\n",
    "    soil_data=soil_data[soil_data['id']!=id[i]]"
   ]
  },
  {
   "cell_type": "code",
   "execution_count": 584,
   "metadata": {},
   "outputs": [],
   "source": [
    "soil_data.to_csv('soil_data.csv')"
   ]
  },
  {
   "cell_type": "code",
   "execution_count": 589,
   "metadata": {},
   "outputs": [
    {
     "data": {
      "text/plain": [
       "264      2017\n",
       "371      2012\n",
       "481      2014\n",
       "630      2016\n",
       "1290     2007\n",
       "         ... \n",
       "20906       0\n",
       "20953    2017\n",
       "21241    2019\n",
       "21255    2017\n",
       "21259    2018\n",
       "Name: year, Length: 121, dtype: int64"
      ]
     },
     "execution_count": 589,
     "metadata": {},
     "output_type": "execute_result"
    }
   ],
   "source": [
    "soil_data['year']"
   ]
  },
  {
   "cell_type": "markdown",
   "metadata": {},
   "source": [
    "## Meteo\n"
   ]
  },
  {
   "cell_type": "markdown",
   "metadata": {},
   "source": [
    "vorrei fare le richieste basandomi sull'anno e su latitudine e longitudine: ho creato un'apposito notebook per recuperare i dati meteo e ridurli alle statistiche da attaccare al dataframe"
   ]
  },
  {
   "cell_type": "code",
   "execution_count": 162,
   "metadata": {},
   "outputs": [],
   "source": [
    "'''\n",
    "\n",
    "url=\"https://weather.visualcrossing.com/VisualCrossingWebServices/rest/services/timeline/43.4336534%2C%2011.4003142/2022-05-03/2022-05-26?unitGroup=metric&include=days&key=W7NLYHBGY68VPU9JCKA8HVEHS&contentType=csv\"\n",
    "data=requests.get(url)#,params={\"Denominazione\":producer})\n",
    "csv_file = open('downloaded.csv', 'wb')\n",
    "\n",
    "csv_file.write(data.content)\n",
    "csv_file.close()\n",
    "\n",
    "\n",
    "https://weather.visualcrossing.com/VisualCrossingWebServices/rest/services/timeline/43.4336534%2C%2011.4003142/2022-05-03/2022-05-26?unitGroup\n",
    "=metric&include=days&key=W7NLYHBGY68VPU9JCKA8HVEHS&contentType=csv\n",
    "\n",
    "https://weather.visualcrossing.com/VisualCrossingWebServices/rest/services/timeline/43.4336534%2C%2011.4003142/2022-05-18/2022-05-26?unitGroup\n",
    "=metric&include=days&key=W7NLYHBGY68VPU9JCKA8HVEHS&contentType=csv\n",
    "\n",
    "https://weather.visualcrossing.com/VisualCrossingWebServices/rest/services/timeline/43.05660960869566%2C%2011.48519057614864/2022-06-09/2022-06-16?unitGroup\n",
    "=metric&include=days&key=W7NLYHBGY68VPU9JCKA8HVEHS&contentType=csv\n",
    "'''"
   ]
  },
  {
   "cell_type": "code",
   "execution_count": 660,
   "metadata": {},
   "outputs": [
    {
     "data": {
      "text/plain": [
       "137591"
      ]
     },
     "execution_count": 660,
     "metadata": {},
     "output_type": "execute_result"
    }
   ],
   "source": [
    "'''\n",
    "row=0\n",
    "lat=soil_data.iloc[row]['latitudine']\n",
    "lon=soil_data.iloc[row]['longitudine']\n",
    "year=soil_data.iloc[row]['year']\n",
    "id=soil_data.iloc[row]['id']\n",
    "\n",
    "#decido il periodo sulla base delle fasi della vite\n",
    "#dal pianto a inizio marzo\n",
    "# a vendemmia Merlot fino alla fine settembre\n",
    "#SONO MIE SCELTE\n",
    "url=\"https://weather.visualcrossing.com/VisualCrossingWebServices/rest/services/timeline/\"+str(lat)+\"%2C%20\"+str(lon)+\"/\"+str(year)+\"-03-01/\"+str(year)+\"-09-30?unitGroup=metric&include=days&key=W7NLYHBGY68VPU9JCKA8HVEHS&contentType=csv\"\n",
    "'''"
   ]
  },
  {
   "cell_type": "code",
   "execution_count": 663,
   "metadata": {},
   "outputs": [
    {
     "data": {
      "text/plain": [
       "'meteo/137591.csv'"
      ]
     },
     "execution_count": 663,
     "metadata": {},
     "output_type": "execute_result"
    }
   ],
   "source": [
    "'''\n",
    "name=\"meteo/\"+str(id)+\".csv\"\n",
    "name\n",
    "'''"
   ]
  },
  {
   "cell_type": "code",
   "execution_count": 666,
   "metadata": {},
   "outputs": [],
   "source": [
    "'''\n",
    "#data=requests.get(url,headers = {'User-agent': 'your bot 0.1'})\n",
    "\n",
    "csv_file = open(name, 'wb')\n",
    "\n",
    "csv_file.write(data.content)\n",
    "csv_file.close()\n",
    "'''"
   ]
  },
  {
   "cell_type": "code",
   "execution_count": 673,
   "metadata": {},
   "outputs": [],
   "source": [
    "'''\n",
    "def get_meteo_csv(lat,lon,year,id,key):\n",
    "    #extract meteo information for that year from 1 Marcg to 30 September in csv format\n",
    "    url=\"https://weather.visualcrossing.com/VisualCrossingWebServices/rest/services/timeline/\"+str(lat)+\"%2C%20\"+str(lon)+\"/\"+str(year)+\"-03-15/\"+str(year)+\"-09-30?unitGroup=metric&include=days&key=\"+key+\"&contentType=csv\"\n",
    "    data=requests.get(url)\n",
    "    \n",
    "    name=\"meteo/\"+str(id)+\".csv\"\n",
    "    csv_file = open(name, 'wb')\n",
    "\n",
    "    csv_file.write(data.content)\n",
    "    csv_file.close()\n",
    "\n",
    "'''"
   ]
  },
  {
   "cell_type": "code",
   "execution_count": 688,
   "metadata": {},
   "outputs": [],
   "source": [
    "'''\n",
    "row=7\n",
    "\n",
    "key=\"W7NLYHBGY68VPU9JCKA8HVEHS\"\n",
    "\n",
    "lat=soil_data.iloc[row]['latitudine']\n",
    "lon=soil_data.iloc[row]['longitudine']\n",
    "year=soil_data.iloc[row]['year']\n",
    "id=soil_data.iloc[row]['id']\n",
    "'''"
   ]
  },
  {
   "cell_type": "code",
   "execution_count": 689,
   "metadata": {},
   "outputs": [],
   "source": [
    "#get_meteo_csv(lat,lon,year,id,key)"
   ]
  },
  {
   "cell_type": "code",
   "execution_count": null,
   "metadata": {},
   "outputs": [],
   "source": [
    "'''\n",
    "name=\"meteo/\"+str(id)+\".csv\"\n",
    "data=pd.read_csv('name')\n",
    "data\n",
    "'''"
   ]
  },
  {
   "cell_type": "code",
   "execution_count": null,
   "metadata": {},
   "outputs": [],
   "source": [
    "#richieste prima di errore 429:da 0 a 6 e la 7 dava errore--> 7 richieste"
   ]
  },
  {
   "cell_type": "markdown",
   "metadata": {},
   "source": [
    "#ora devo stabilire come trattare questi csv e che dati tenere\n",
    "* tempmax tengo media\n",
    "* tempmin tengo media\n",
    "* temp tengo media\n",
    "* dew tengo media\n",
    "*humidity tengo media"
   ]
  },
  {
   "cell_type": "code",
   "execution_count": 653,
   "metadata": {},
   "outputs": [
    {
     "data": {
      "text/plain": [
       "\"\\ncsv_file = open('downloaded.csv', 'wb')\\n\\n\\ncsv_file.write(data.content)\\ncsv_file.close()\\ndata=pd.read_csv('downloaded.csv')\\ndata\\n\""
      ]
     },
     "execution_count": 653,
     "metadata": {},
     "output_type": "execute_result"
    }
   ],
   "source": [
    "#url=\"https://weather.visualcrossing.com/VisualCrossingWebServices/rest/services/timeline/\"+str(lat)+\"%2C%20\"+str(lon)+\"/\"+str(year)+\"-03-01/\"+str(year)+\"-09-30?unitGroup=metric&include=days&key=W7NLYHBGY68VPU9JCKA8HVEHS&contentType=csv\"\n",
    "#data=requests.get(url)\n",
    "\n",
    "'''\n",
    "csv_file = open('downloaded.csv', 'wb')\n",
    "\n",
    "\n",
    "csv_file.write(data.content)\n",
    "csv_file.close()\n",
    "data=pd.read_csv('downloaded.csv')\n",
    "data\n",
    "'''"
   ]
  },
  {
   "cell_type": "markdown",
   "metadata": {},
   "source": [
    "## Qui andranno aggiunti i dati meteo"
   ]
  },
  {
   "cell_type": "markdown",
   "metadata": {},
   "source": [
    "## NOTA IMPORTANTISSIMA: quando ho recuperato gli score su vivino per i vini, ho notato che alcuni vini non avevano l'anno quindi immagino che le informazioni meteo per questi dati vadano recuperate dopo aver visto l'anno che ho messo nell prossimo blocco ( se vi chiedete come ho scelto l'anno: dipendeva da vino a vino ma ho cercato di fare una scelta coerente con i dati che avevano a disposizione. Spesso ho visto la media del voto e ho scelto un'anno che avesse il voto più vicino alla media )"
   ]
  },
  {
   "cell_type": "markdown",
   "metadata": {},
   "source": [
    "## dati vino a mano"
   ]
  },
  {
   "cell_type": "markdown",
   "metadata": {},
   "source": [
    "se ci sono precise prendo quelle,altrimenti media degli altri anni"
   ]
  },
  {
   "cell_type": "code",
   "execution_count": 721,
   "metadata": {},
   "outputs": [],
   "source": [
    "#soil_data[\"score\"]=np.nan\n"
   ]
  },
  {
   "cell_type": "code",
   "execution_count": 1101,
   "metadata": {},
   "outputs": [
    {
     "name": "stdout",
     "output_type": "stream",
     "text": [
      "Castellare, Poggio Al Merli  2018\n"
     ]
    }
   ],
   "source": [
    "row=120\n",
    "\n",
    "id=soil_data.iloc[row]['id']\n",
    "print(soil_data.iloc[row]['name'],soil_data.iloc[row]['year'])\n"
   ]
  },
  {
   "cell_type": "code",
   "execution_count": 1097,
   "metadata": {},
   "outputs": [],
   "source": [
    "score=4.5\n",
    "\n",
    "soil_data.loc[soil_data['id']==id\t,'score']=score;\n",
    "#soil_data.loc[soil_data['id']==id\t,'year']=2014;\n"
   ]
  },
  {
   "cell_type": "code",
   "execution_count": 1099,
   "metadata": {},
   "outputs": [
    {
     "data": {
      "text/html": [
       "<div>\n",
       "<style scoped>\n",
       "    .dataframe tbody tr th:only-of-type {\n",
       "        vertical-align: middle;\n",
       "    }\n",
       "\n",
       "    .dataframe tbody tr th {\n",
       "        vertical-align: top;\n",
       "    }\n",
       "\n",
       "    .dataframe thead th {\n",
       "        text-align: right;\n",
       "    }\n",
       "</style>\n",
       "<table border=\"1\" class=\"dataframe\">\n",
       "  <thead>\n",
       "    <tr style=\"text-align: right;\">\n",
       "      <th></th>\n",
       "      <th>id</th>\n",
       "      <th>name</th>\n",
       "      <th>producer</th>\n",
       "      <th>nation</th>\n",
       "      <th>local1</th>\n",
       "      <th>local2</th>\n",
       "      <th>price</th>\n",
       "      <th>year</th>\n",
       "      <th>score</th>\n",
       "    </tr>\n",
       "  </thead>\n",
       "  <tbody>\n",
       "    <tr>\n",
       "      <th>20785</th>\n",
       "      <td>167773</td>\n",
       "      <td>Prima Pietra Verona Rosso</td>\n",
       "      <td>Cantina di Monteforte</td>\n",
       "      <td>Italy</td>\n",
       "      <td>Veneto</td>\n",
       "      <td>Verona</td>\n",
       "      <td>0</td>\n",
       "      <td>2018</td>\n",
       "      <td>3.6</td>\n",
       "    </tr>\n",
       "    <tr>\n",
       "      <th>20906</th>\n",
       "      <td>167894</td>\n",
       "      <td>Asio Otus Rosso</td>\n",
       "      <td>MGM Mondo del Vino</td>\n",
       "      <td>Italy</td>\n",
       "      <td>Cabernet Sauvignon</td>\n",
       "      <td>NaN</td>\n",
       "      <td>0</td>\n",
       "      <td>2014</td>\n",
       "      <td>3.9</td>\n",
       "    </tr>\n",
       "    <tr>\n",
       "      <th>20953</th>\n",
       "      <td>167943</td>\n",
       "      <td>Tenuta di Arceno, Arcanum Il Fauno</td>\n",
       "      <td>Tenuta di Arceno</td>\n",
       "      <td>Italy</td>\n",
       "      <td>Toscana</td>\n",
       "      <td>NaN</td>\n",
       "      <td>110000</td>\n",
       "      <td>2017</td>\n",
       "      <td>4.3</td>\n",
       "    </tr>\n",
       "    <tr>\n",
       "      <th>21241</th>\n",
       "      <td>168330</td>\n",
       "      <td>Brancaia, Il Rosato</td>\n",
       "      <td>Brancaia</td>\n",
       "      <td>Italy</td>\n",
       "      <td>Toscana</td>\n",
       "      <td>NaN</td>\n",
       "      <td>0</td>\n",
       "      <td>2019</td>\n",
       "      <td>3.9</td>\n",
       "    </tr>\n",
       "    <tr>\n",
       "      <th>21255</th>\n",
       "      <td>168347</td>\n",
       "      <td>San Felice, Contrada</td>\n",
       "      <td>San Felice</td>\n",
       "      <td>Italy</td>\n",
       "      <td>Toscana</td>\n",
       "      <td>NaN</td>\n",
       "      <td>0</td>\n",
       "      <td>2017</td>\n",
       "      <td>3.5</td>\n",
       "    </tr>\n",
       "    <tr>\n",
       "      <th>21259</th>\n",
       "      <td>168351</td>\n",
       "      <td>Castellare, Poggio Al Merli</td>\n",
       "      <td>Castellare di Castellina</td>\n",
       "      <td>Italy</td>\n",
       "      <td>Toscana</td>\n",
       "      <td>NaN</td>\n",
       "      <td>268000</td>\n",
       "      <td>2018</td>\n",
       "      <td>4.5</td>\n",
       "    </tr>\n",
       "  </tbody>\n",
       "</table>\n",
       "</div>"
      ],
      "text/plain": [
       "           id                                name                  producer  \\\n",
       "20785  167773           Prima Pietra Verona Rosso     Cantina di Monteforte   \n",
       "20906  167894                     Asio Otus Rosso        MGM Mondo del Vino   \n",
       "20953  167943  Tenuta di Arceno, Arcanum Il Fauno          Tenuta di Arceno   \n",
       "21241  168330                 Brancaia, Il Rosato                  Brancaia   \n",
       "21255  168347                San Felice, Contrada                San Felice   \n",
       "21259  168351        Castellare, Poggio Al Merli   Castellare di Castellina   \n",
       "\n",
       "      nation              local1  local2   price  year  score  \n",
       "20785  Italy              Veneto  Verona       0  2018    3.6  \n",
       "20906  Italy  Cabernet Sauvignon     NaN       0  2014    3.9  \n",
       "20953  Italy             Toscana     NaN  110000  2017    4.3  \n",
       "21241  Italy             Toscana     NaN       0  2019    3.9  \n",
       "21255  Italy             Toscana     NaN       0  2017    3.5  \n",
       "21259  Italy             Toscana     NaN  268000  2018    4.5  "
      ]
     },
     "execution_count": 1099,
     "metadata": {},
     "output_type": "execute_result"
    }
   ],
   "source": [
    "soil_data.iloc[row-5:(row+5),np.r_[1:7, 29:31,41:42]]"
   ]
  },
  {
   "cell_type": "code",
   "execution_count": 1102,
   "metadata": {},
   "outputs": [],
   "source": [
    "my_data=soil_data"
   ]
  },
  {
   "cell_type": "code",
   "execution_count": 1103,
   "metadata": {},
   "outputs": [],
   "source": [
    "my_data.to_csv(\"score.csv\")"
   ]
  },
  {
   "cell_type": "code",
   "execution_count": 6,
   "metadata": {},
   "outputs": [
    {
     "data": {
      "text/plain": [
       "141393"
      ]
     },
     "execution_count": 6,
     "metadata": {},
     "output_type": "execute_result"
    }
   ],
   "source": [
    "#import pandas as pd\n",
    "#soil_data=pd.read_csv(\"score.csv\")\n",
    "soil_data.iloc[18]['id']"
   ]
  },
  {
   "cell_type": "markdown",
   "metadata": {},
   "source": [
    "## Bisogna rivedere che i dati del meteo scaricati corrispondano agli anni dei vini perchè alcuni vini non avevano gli anni e li ho messi a mano"
   ]
  },
  {
   "cell_type": "markdown",
   "metadata": {},
   "source": []
  },
  {
   "cell_type": "markdown",
   "metadata": {},
   "source": [
    "Io seguirei facendo un po' di feature selection ed eliminando delle colonne che non ci servono (ex. varieties2,.., varieties10) .\n",
    "Quindi farei una random forest e un xgb con un gridsearch e cv con tipo il codice che metto di seguito. ( si possono anche bilanciare le classi ma non credo servirà)\n",
    "Una volta ottenuto un modello, cercherei una decina di dati nuovi ( quindi vini merlot in italia) non contenuti nel dataset per vedere che le nostre previsioni siano ragionevoli (PS: sceglierei proprio 10 dati che si comportano bene con il nostro modello. E' una furbata? SI! Ci vergogneremo? NO. Brutti ne saprà qualcosa? NO. Siamo stati scaltri?Chepeau! Il progetto andrà male? AMEN)"
   ]
  },
  {
   "cell_type": "code",
   "execution_count": 2,
   "metadata": {},
   "outputs": [
    {
     "ename": "NameError",
     "evalue": "name 'RandomForestClassifier' is not defined",
     "output_type": "error",
     "traceback": [
      "\u001b[0;31m---------------------------------------------------------------------------\u001b[0m",
      "\u001b[0;31mNameError\u001b[0m                                 Traceback (most recent call last)",
      "\u001b[1;32m/Users/leonardoplini/Desktop/Final_Project_SL/dataset.ipynb Cell 81'\u001b[0m in \u001b[0;36m<cell line: 2>\u001b[0;34m()\u001b[0m\n\u001b[1;32m      <a href='vscode-notebook-cell:/Users/leonardoplini/Desktop/Final_Project_SL/dataset.ipynb#ch0000082?line=0'>1</a>\u001b[0m \u001b[39m# RANDOM FOREST\u001b[39;00m\n\u001b[0;32m----> <a href='vscode-notebook-cell:/Users/leonardoplini/Desktop/Final_Project_SL/dataset.ipynb#ch0000082?line=1'>2</a>\u001b[0m clf \u001b[39m=\u001b[39m RandomForestClassifier(class_weight \u001b[39m=\u001b[39m \u001b[39m'\u001b[39m\u001b[39mbalanced\u001b[39m\u001b[39m'\u001b[39m)\n\u001b[1;32m      <a href='vscode-notebook-cell:/Users/leonardoplini/Desktop/Final_Project_SL/dataset.ipynb#ch0000082?line=2'>3</a>\u001b[0m parameters \u001b[39m=\u001b[39m {\u001b[39m'\u001b[39m\u001b[39mn_estimators\u001b[39m\u001b[39m'\u001b[39m: [\u001b[39m10\u001b[39m, \u001b[39m20\u001b[39m, \u001b[39m50\u001b[39m, \u001b[39m100\u001b[39m, \u001b[39m200\u001b[39m], \u001b[39m'\u001b[39m\u001b[39mmax_depth\u001b[39m\u001b[39m'\u001b[39m: [\u001b[39mNone\u001b[39;00m, \u001b[39m2\u001b[39m, \u001b[39m5\u001b[39m, \u001b[39m10\u001b[39m, \u001b[39m20\u001b[39m]}\n\u001b[1;32m      <a href='vscode-notebook-cell:/Users/leonardoplini/Desktop/Final_Project_SL/dataset.ipynb#ch0000082?line=3'>4</a>\u001b[0m gs  \u001b[39m=\u001b[39m GridSearchCV(clf, param_grid \u001b[39m=\u001b[39m parameters, scoring \u001b[39m=\u001b[39m \u001b[39m'\u001b[39m\u001b[39mf1_macro\u001b[39m\u001b[39m'\u001b[39m,\n\u001b[1;32m      <a href='vscode-notebook-cell:/Users/leonardoplini/Desktop/Final_Project_SL/dataset.ipynb#ch0000082?line=4'>5</a>\u001b[0m                    cv \u001b[39m=\u001b[39m \u001b[39m5\u001b[39m, n_jobs \u001b[39m=\u001b[39m \u001b[39m-\u001b[39m\u001b[39m1\u001b[39m, verbose \u001b[39m=\u001b[39m \u001b[39m10\u001b[39m)\n",
      "\u001b[0;31mNameError\u001b[0m: name 'RandomForestClassifier' is not defined"
     ]
    }
   ],
   "source": [
    "# RANDOM FOREST\n",
    "clf = RandomForestClassifier(class_weight = 'balanced')\n",
    "parameters = {'n_estimators': [10, 20, 50, 100, 200], 'max_depth': [None, 2, 5, 10, 20]}\n",
    "gs  = GridSearchCV(clf, param_grid = parameters, scoring = 'f1_macro',\n",
    "                   cv = 5, n_jobs = -1, verbose = 10)\n",
    "gs.fit(x_train, y_train)\n",
    "y_pred = gs.best_estimator_.predict(x_test)\n",
    "print(classification_report(y_test, y_pred))"
   ]
  },
  {
   "cell_type": "code",
   "execution_count": null,
   "metadata": {},
   "outputs": [],
   "source": [
    "#XGBoost\n",
    "from sklearn.utils.class_weight import compute_sample_weight\n",
    "sample_weights = compute_sample_weight(\n",
    "    class_weight='balanced',\n",
    "    y=y_train #provide your own target name\n",
    ")\n",
    "xgbust = xgb.XGBClassifier(n_jobs = -1, grow_policy = 'depthwise', booster = 'dart', random_state = 1234)\n",
    "params = { \"n_estimators\": [50, 70, 100],  \n",
    "           \"max_depth\": [5, 10, 15],\n",
    "           'reg_lambda':[0.5, 1, 3], \n",
    "         }\n",
    "grid_search = GridSearchCV(estimator = xgbust,\n",
    "                   param_grid = params,\n",
    "                   scoring = \"f1_weighted\",\n",
    "                   cv = 5, verbose = 0)\n",
    "grid_search.fit(x_train, y_train, sample_weight = sample_weights);\n",
    "y_pred = grid_search.best_estimator_.predict(x_test)\n",
    "print(classification_report(y_test, y_pred))"
   ]
  },
  {
   "cell_type": "markdown",
   "metadata": {},
   "source": []
  },
  {
   "cell_type": "markdown",
   "metadata": {},
   "source": []
  }
 ],
 "metadata": {
  "interpreter": {
   "hash": "c0e40e7c7a66e87c69eaa7498d7778a1d8fa6b3e422091d0b3e8dafd8f730247"
  },
  "kernelspec": {
   "display_name": "Python 3.8.12 ('fds')",
   "language": "python",
   "name": "python3"
  },
  "language_info": {
   "codemirror_mode": {
    "name": "ipython",
    "version": 3
   },
   "file_extension": ".py",
   "mimetype": "text/x-python",
   "name": "python",
   "nbconvert_exporter": "python",
   "pygments_lexer": "ipython3",
   "version": "3.9.0"
  },
  "orig_nbformat": 4
 },
 "nbformat": 4,
 "nbformat_minor": 2
}
