{
 "cells": [
  {
   "cell_type": "code",
   "execution_count": null,
   "metadata": {},
   "outputs": [],
   "source": [
    "import pandas as pd\n",
    "pd.set_option('display.max_columns', None)\n",
    "import numpy as np\n",
    "#from sklearn.preprocessing import OneHotEncoder\n",
    "from statistics import mean"
   ]
  },
  {
   "cell_type": "code",
   "execution_count": null,
   "metadata": {},
   "outputs": [],
   "source": [
    "data = pd.read_csv('final_modifica2.csv')"
   ]
  },
  {
   "cell_type": "code",
   "execution_count": null,
   "metadata": {},
   "outputs": [],
   "source": [
    "#data.head(10)"
   ]
  },
  {
   "cell_type": "markdown",
   "metadata": {},
   "source": [
    "## Preprocessing"
   ]
  },
  {
   "cell_type": "markdown",
   "metadata": {},
   "source": [
    "#### One-hot-encoding categorical data ('type' and 'use' columns):"
   ]
  },
  {
   "cell_type": "code",
   "execution_count": null,
   "metadata": {},
   "outputs": [],
   "source": [
    "one_hot_encoded_data = pd.get_dummies(data, columns = ['type','use']) #It also automatically removes the original columns"
   ]
  },
  {
   "cell_type": "code",
   "execution_count": null,
   "metadata": {},
   "outputs": [],
   "source": [
    "#one_hot_encoded_data.head(10)"
   ]
  },
  {
   "cell_type": "markdown",
   "metadata": {},
   "source": [
    "#### Change abv and degree (remove the tilde) --> if for example I find degree = 16~18, I replace it with the mean of 16 and 18"
   ]
  },
  {
   "cell_type": "code",
   "execution_count": null,
   "metadata": {},
   "outputs": [],
   "source": [
    "data[['abv', 'degree']] = data[['abv','degree']].fillna('0') #This comes in handy when applying the following function to avoid errors"
   ]
  },
  {
   "cell_type": "code",
   "execution_count": null,
   "metadata": {},
   "outputs": [],
   "source": [
    "data['degree']=data['degree'].astype('string')\n",
    "data['abv']=data['abv'].astype('string')"
   ]
  },
  {
   "cell_type": "code",
   "execution_count": null,
   "metadata": {},
   "outputs": [],
   "source": [
    "def remove_tilde(row):\n",
    "\n",
    "    if \"~\" in row:\n",
    "        x = row.split(\"~\")\n",
    "        x_int = [float(i) for i in x]\n",
    "        row = mean(x_int)\n",
    "    \n",
    "    return row"
   ]
  },
  {
   "cell_type": "code",
   "execution_count": null,
   "metadata": {},
   "outputs": [],
   "source": [
    "data['degree'] = data.apply(lambda row: remove_tilde(row['degree']), axis=1)\n",
    "data['abv'] = data.apply(lambda row: remove_tilde(row['abv']), axis=1)"
   ]
  },
  {
   "cell_type": "code",
   "execution_count": null,
   "metadata": {},
   "outputs": [],
   "source": [
    "data['degree']=data['degree'].astype('float')\n",
    "data['abv']=data['abv'].astype('float')"
   ]
  },
  {
   "cell_type": "code",
   "execution_count": 18,
   "metadata": {},
   "outputs": [
    {
     "data": {
      "text/plain": [
       "32"
      ]
     },
     "execution_count": 18,
     "metadata": {},
     "output_type": "execute_result"
    }
   ],
   "source": [
    "## CHECK WHICH WINES HAVE 0 AS VALUE FOR ABV ##\n",
    "\n",
    "#data.loc[data['abv'] == 0] #32 vini\n",
    "\n",
    "## AND THEN COLLECT THEM BY HAND LIKE A BOSS ##"
   ]
  },
  {
   "cell_type": "code",
   "execution_count": 19,
   "metadata": {},
   "outputs": [],
   "source": [
    "abv_missing = [15,14,13,14.5,13.5,14,13.5,14,14,14,15,15.5,14,13.5,14.5,13,14.5,14.5,14,13.5,13,13.5,14,14,13.5,12.5,14,13,13,13.5,14.5,0] \n",
    "i_abv = 0\n",
    "def fix_abv(row): #Per aggiustare i valori di ABV\n",
    "    \n",
    "    global i_abv ### QUA MODIFICA LA VARIABILE GLOBALE quindi se fate attenzione se dovete riutilizzare la funzione\n",
    "    if row==0:\n",
    "        row = abv_missing[i_abv]\n",
    "        i_abv += 1\n",
    "    return row\n"
   ]
  },
  {
   "cell_type": "code",
   "execution_count": 20,
   "metadata": {},
   "outputs": [
    {
     "data": {
      "text/plain": [
       "32"
      ]
     },
     "execution_count": 20,
     "metadata": {},
     "output_type": "execute_result"
    }
   ],
   "source": [
    "#len(abv_missing)"
   ]
  },
  {
   "cell_type": "code",
   "execution_count": 21,
   "metadata": {},
   "outputs": [],
   "source": [
    "\n",
    "data['abv'] = data.apply(lambda row: fix_abv(row['abv']), axis=1)"
   ]
  },
  {
   "cell_type": "code",
   "execution_count": 23,
   "metadata": {},
   "outputs": [
    {
     "data": {
      "text/html": [
       "<div>\n",
       "<style scoped>\n",
       "    .dataframe tbody tr th:only-of-type {\n",
       "        vertical-align: middle;\n",
       "    }\n",
       "\n",
       "    .dataframe tbody tr th {\n",
       "        vertical-align: top;\n",
       "    }\n",
       "\n",
       "    .dataframe thead th {\n",
       "        text-align: right;\n",
       "    }\n",
       "</style>\n",
       "<table border=\"1\" class=\"dataframe\">\n",
       "  <thead>\n",
       "    <tr style=\"text-align: right;\">\n",
       "      <th></th>\n",
       "      <th>Unnamed: 0</th>\n",
       "      <th>id</th>\n",
       "      <th>name</th>\n",
       "      <th>producer</th>\n",
       "      <th>nation</th>\n",
       "      <th>local1</th>\n",
       "      <th>type</th>\n",
       "      <th>use</th>\n",
       "      <th>abv</th>\n",
       "      <th>degree</th>\n",
       "      <th>sweet</th>\n",
       "      <th>acidity</th>\n",
       "      <th>body</th>\n",
       "      <th>tannin</th>\n",
       "      <th>price</th>\n",
       "      <th>year</th>\n",
       "      <th>ml</th>\n",
       "      <th>latitudine</th>\n",
       "      <th>longitudine</th>\n",
       "      <th>cec</th>\n",
       "      <th>cfvo</th>\n",
       "      <th>clay</th>\n",
       "      <th>nitrogen</th>\n",
       "      <th>phh2o</th>\n",
       "      <th>sand</th>\n",
       "      <th>silt</th>\n",
       "      <th>tempmax</th>\n",
       "      <th>tempmin</th>\n",
       "      <th>temp</th>\n",
       "      <th>dew</th>\n",
       "      <th>humidity</th>\n",
       "      <th>precip</th>\n",
       "      <th>windspeed</th>\n",
       "      <th>solarradiation</th>\n",
       "      <th>solarenergy</th>\n",
       "      <th>uvindex</th>\n",
       "      <th>score</th>\n",
       "    </tr>\n",
       "  </thead>\n",
       "  <tbody>\n",
       "    <tr>\n",
       "      <th>143</th>\n",
       "      <td>143</td>\n",
       "      <td>154056</td>\n",
       "      <td>Soprano, Rosso Sweet</td>\n",
       "      <td>Soprano</td>\n",
       "      <td>Italy</td>\n",
       "      <td>NaN</td>\n",
       "      <td>Red</td>\n",
       "      <td>Table</td>\n",
       "      <td>0.0</td>\n",
       "      <td>0.0</td>\n",
       "      <td>4</td>\n",
       "      <td>1</td>\n",
       "      <td>4</td>\n",
       "      <td>2</td>\n",
       "      <td>0</td>\n",
       "      <td>2019</td>\n",
       "      <td>750</td>\n",
       "      <td>43.541129</td>\n",
       "      <td>7.953705</td>\n",
       "      <td>NaN</td>\n",
       "      <td>NaN</td>\n",
       "      <td>NaN</td>\n",
       "      <td>NaN</td>\n",
       "      <td>NaN</td>\n",
       "      <td>NaN</td>\n",
       "      <td>NaN</td>\n",
       "      <td>22.5615</td>\n",
       "      <td>16.8555</td>\n",
       "      <td>19.5475</td>\n",
       "      <td>13.8855</td>\n",
       "      <td>71.316</td>\n",
       "      <td>241.73</td>\n",
       "      <td>19.216</td>\n",
       "      <td>211.753</td>\n",
       "      <td>18.2855</td>\n",
       "      <td>7.39</td>\n",
       "      <td>3.1</td>\n",
       "    </tr>\n",
       "  </tbody>\n",
       "</table>\n",
       "</div>"
      ],
      "text/plain": [
       "     Unnamed: 0      id                  name producer nation local1 type  \\\n",
       "143         143  154056  Soprano, Rosso Sweet  Soprano  Italy    NaN  Red   \n",
       "\n",
       "       use  abv  degree  sweet  acidity  body  tannin  price  year   ml  \\\n",
       "143  Table  0.0     0.0      4        1     4       2      0  2019  750   \n",
       "\n",
       "     latitudine  longitudine  cec  cfvo  clay  nitrogen  phh2o  sand  silt  \\\n",
       "143   43.541129     7.953705  NaN   NaN   NaN       NaN    NaN   NaN   NaN   \n",
       "\n",
       "     tempmax  tempmin     temp      dew  humidity  precip  windspeed  \\\n",
       "143  22.5615  16.8555  19.5475  13.8855    71.316  241.73     19.216   \n",
       "\n",
       "     solarradiation  solarenergy  uvindex  score  \n",
       "143         211.753      18.2855     7.39    3.1  "
      ]
     },
     "execution_count": 23,
     "metadata": {},
     "output_type": "execute_result"
    }
   ],
   "source": [
    "data.loc[data['abv'] == 0] #Noterete che manca il vino numero 143 il cui ABV è introvabile"
   ]
  },
  {
   "cell_type": "markdown",
   "metadata": {},
   "source": [
    "Bisognerebbe fare lo stesso procedimento per il degree che (*drum roll*) è la cristo di temperatura consigliata per bere il vino ed è un po' più difficile da trovare (mancano 33 records)"
   ]
  },
  {
   "cell_type": "code",
   "execution_count": null,
   "metadata": {},
   "outputs": [],
   "source": [
    "#data.loc[data['degree'] == 0] #33 vini\n"
   ]
  },
  {
   "cell_type": "markdown",
   "metadata": {},
   "source": [
    "### - There are a few wines with year = 0 (what to do with them?)\n",
    "### - Also a few NaN regarding \"solarradiation\" and \"solarenergy\" which I'm not too sure how to handle "
   ]
  }
 ],
 "metadata": {
  "interpreter": {
   "hash": "e438fd23849df35f4f8077d823864d933719425f3f732c765647ebadece9fd87"
  },
  "kernelspec": {
   "display_name": "Python 3.8.8 ('base')",
   "language": "python",
   "name": "python3"
  },
  "language_info": {
   "codemirror_mode": {
    "name": "ipython",
    "version": 3
   },
   "file_extension": ".py",
   "mimetype": "text/x-python",
   "name": "python",
   "nbconvert_exporter": "python",
   "pygments_lexer": "ipython3",
   "version": "3.8.8"
  },
  "orig_nbformat": 4
 },
 "nbformat": 4,
 "nbformat_minor": 2
}
