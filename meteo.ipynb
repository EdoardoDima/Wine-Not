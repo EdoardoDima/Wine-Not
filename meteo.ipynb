{
 "cells": [
  {
   "cell_type": "code",
   "execution_count": 2,
   "metadata": {},
   "outputs": [],
   "source": [
    "#libraries\n",
    "import requests\n",
    "import pandas as pd"
   ]
  },
  {
   "cell_type": "code",
   "execution_count": 3,
   "metadata": {},
   "outputs": [],
   "source": [
    "#\n",
    "soil_data=pd.read_csv('soil_data.csv')"
   ]
  },
  {
   "cell_type": "code",
   "execution_count": 4,
   "metadata": {},
   "outputs": [],
   "source": [
    "#soil_data"
   ]
  },
  {
   "cell_type": "code",
   "execution_count": 5,
   "metadata": {},
   "outputs": [],
   "source": [
    "def get_meteo_csv(lat,lon,year,id,key):\n",
    "    #extract meteo information for that year from 1 Marcg to 30 September in csv format\n",
    "    url=\"https://weather.visualcrossing.com/VisualCrossingWebServices/rest/services/timeline/\"+str(lat)+\"%2C%20\"+str(lon)+\"/\"+str(year)+\"-03-15/\"+str(year)+\"-09-30?unitGroup=metric&include=days&key=\"+key+\"&contentType=csv\"\n",
    "    data=requests.get(url)\n",
    "    \n",
    "    name=\"meteo/\"+str(id)+\".csv\"\n",
    "    csv_file = open(name, 'wb')\n",
    "\n",
    "    csv_file.write(data.content)\n",
    "    csv_file.close()"
   ]
  },
  {
   "cell_type": "code",
   "execution_count": 12,
   "metadata": {},
   "outputs": [
    {
     "data": {
      "text/plain": [
       "141393"
      ]
     },
     "execution_count": 12,
     "metadata": {},
     "output_type": "execute_result"
    }
   ],
   "source": [
    "row=18\n",
    "\n",
    "key=\"W7NLYHBGY68VPU9JCKA8HVEHS\"\n",
    "\n",
    "lat=soil_data.iloc[row]['latitudine']\n",
    "lon=soil_data.iloc[row]['longitudine']\n",
    "year=soil_data.iloc[row]['year']\n",
    "id=soil_data.iloc[row]['id']\n",
    "id"
   ]
  },
  {
   "cell_type": "code",
   "execution_count": 24,
   "metadata": {},
   "outputs": [
    {
     "data": {
      "text/plain": [
       "0"
      ]
     },
     "execution_count": 24,
     "metadata": {},
     "output_type": "execute_result"
    }
   ],
   "source": [
    "#soil_data.iloc[18]['year']"
   ]
  },
  {
   "cell_type": "markdown",
   "metadata": {},
   "source": [
    "\n",
    "## RIVEDI LA RIGA 18 con id=141393 --> certe osservazioni non avevano l'anno e l'ho messo a mano"
   ]
  },
  {
   "cell_type": "markdown",
   "metadata": {},
   "source": [
    "## REDUCE METEO INFORMATION"
   ]
  },
  {
   "cell_type": "code",
   "execution_count": 11,
   "metadata": {},
   "outputs": [
    {
     "data": {
      "text/plain": [
       "'meteo/137591.csv'"
      ]
     },
     "execution_count": 11,
     "metadata": {},
     "output_type": "execute_result"
    }
   ],
   "source": [
    "\n",
    "#id=soil_data.iloc[row]['id']\n",
    "name=\"meteo/\"+str(id)+\".csv\"\n",
    "name"
   ]
  },
  {
   "cell_type": "code",
   "execution_count": 12,
   "metadata": {},
   "outputs": [],
   "source": [
    "current_data=pd.read_csv(name)"
   ]
  },
  {
   "cell_type": "code",
   "execution_count": 13,
   "metadata": {},
   "outputs": [
    {
     "data": {
      "text/plain": [
       "Index(['name', 'datetime', 'tempmax', 'tempmin', 'temp', 'feelslikemax',\n",
       "       'feelslikemin', 'feelslike', 'dew', 'humidity', 'precip', 'precipprob',\n",
       "       'precipcover', 'preciptype', 'snow', 'snowdepth', 'windgust',\n",
       "       'windspeed', 'winddir', 'sealevelpressure', 'cloudcover', 'visibility',\n",
       "       'solarradiation', 'solarenergy', 'uvindex', 'severerisk', 'sunrise',\n",
       "       'sunset', 'moonphase', 'conditions', 'description', 'icon', 'stations'],\n",
       "      dtype='object')"
      ]
     },
     "execution_count": 13,
     "metadata": {},
     "output_type": "execute_result"
    }
   ],
   "source": [
    "current_data.columns"
   ]
  },
  {
   "cell_type": "code",
   "execution_count": 14,
   "metadata": {},
   "outputs": [],
   "source": [
    "to_eliminate=['name','datetime','feelslikemax','feelslikemin', 'feelslike','precipprob',\n",
    "       'precipcover', 'preciptype','snow','snowdepth', 'windgust','winddir', 'sealevelpressure', 'cloudcover', 'visibility',\n",
    "       'severerisk', 'sunrise',\n",
    "       'sunset', 'moonphase', 'conditions', 'description', 'icon', 'stations']"
   ]
  },
  {
   "cell_type": "code",
   "execution_count": 15,
   "metadata": {},
   "outputs": [],
   "source": [
    "current_data.drop(to_eliminate, inplace=True, axis=1)"
   ]
  },
  {
   "cell_type": "code",
   "execution_count": 19,
   "metadata": {},
   "outputs": [
    {
     "data": {
      "text/html": [
       "<div>\n",
       "<style scoped>\n",
       "    .dataframe tbody tr th:only-of-type {\n",
       "        vertical-align: middle;\n",
       "    }\n",
       "\n",
       "    .dataframe tbody tr th {\n",
       "        vertical-align: top;\n",
       "    }\n",
       "\n",
       "    .dataframe thead th {\n",
       "        text-align: right;\n",
       "    }\n",
       "</style>\n",
       "<table border=\"1\" class=\"dataframe\">\n",
       "  <thead>\n",
       "    <tr style=\"text-align: right;\">\n",
       "      <th></th>\n",
       "      <th>tempmax</th>\n",
       "      <th>tempmin</th>\n",
       "      <th>temp</th>\n",
       "      <th>dew</th>\n",
       "      <th>humidity</th>\n",
       "      <th>precip</th>\n",
       "      <th>windspeed</th>\n",
       "      <th>solarradiation</th>\n",
       "      <th>solarenergy</th>\n",
       "      <th>uvindex</th>\n",
       "    </tr>\n",
       "  </thead>\n",
       "  <tbody>\n",
       "    <tr>\n",
       "      <th>0</th>\n",
       "      <td>15.9</td>\n",
       "      <td>3.3</td>\n",
       "      <td>9.0</td>\n",
       "      <td>2.4</td>\n",
       "      <td>65.2</td>\n",
       "      <td>0.0</td>\n",
       "      <td>16.5</td>\n",
       "      <td>210.1</td>\n",
       "      <td>18.1</td>\n",
       "      <td>7</td>\n",
       "    </tr>\n",
       "    <tr>\n",
       "      <th>1</th>\n",
       "      <td>16.9</td>\n",
       "      <td>3.3</td>\n",
       "      <td>10.0</td>\n",
       "      <td>2.4</td>\n",
       "      <td>61.2</td>\n",
       "      <td>0.0</td>\n",
       "      <td>15.5</td>\n",
       "      <td>230.3</td>\n",
       "      <td>20.1</td>\n",
       "      <td>8</td>\n",
       "    </tr>\n",
       "    <tr>\n",
       "      <th>2</th>\n",
       "      <td>21.7</td>\n",
       "      <td>2.4</td>\n",
       "      <td>12.3</td>\n",
       "      <td>2.4</td>\n",
       "      <td>56.1</td>\n",
       "      <td>0.0</td>\n",
       "      <td>16.3</td>\n",
       "      <td>235.3</td>\n",
       "      <td>20.3</td>\n",
       "      <td>8</td>\n",
       "    </tr>\n",
       "    <tr>\n",
       "      <th>3</th>\n",
       "      <td>25.9</td>\n",
       "      <td>11.2</td>\n",
       "      <td>17.5</td>\n",
       "      <td>3.2</td>\n",
       "      <td>43.9</td>\n",
       "      <td>0.0</td>\n",
       "      <td>28.7</td>\n",
       "      <td>229.2</td>\n",
       "      <td>19.9</td>\n",
       "      <td>7</td>\n",
       "    </tr>\n",
       "    <tr>\n",
       "      <th>4</th>\n",
       "      <td>18.0</td>\n",
       "      <td>8.2</td>\n",
       "      <td>14.1</td>\n",
       "      <td>8.2</td>\n",
       "      <td>69.2</td>\n",
       "      <td>0.0</td>\n",
       "      <td>16.1</td>\n",
       "      <td>224.6</td>\n",
       "      <td>19.5</td>\n",
       "      <td>7</td>\n",
       "    </tr>\n",
       "    <tr>\n",
       "      <th>...</th>\n",
       "      <td>...</td>\n",
       "      <td>...</td>\n",
       "      <td>...</td>\n",
       "      <td>...</td>\n",
       "      <td>...</td>\n",
       "      <td>...</td>\n",
       "      <td>...</td>\n",
       "      <td>...</td>\n",
       "      <td>...</td>\n",
       "      <td>...</td>\n",
       "    </tr>\n",
       "    <tr>\n",
       "      <th>195</th>\n",
       "      <td>21.1</td>\n",
       "      <td>13.0</td>\n",
       "      <td>16.4</td>\n",
       "      <td>13.5</td>\n",
       "      <td>83.8</td>\n",
       "      <td>0.0</td>\n",
       "      <td>16.6</td>\n",
       "      <td>155.8</td>\n",
       "      <td>13.4</td>\n",
       "      <td>6</td>\n",
       "    </tr>\n",
       "    <tr>\n",
       "      <th>196</th>\n",
       "      <td>23.0</td>\n",
       "      <td>12.0</td>\n",
       "      <td>17.6</td>\n",
       "      <td>13.6</td>\n",
       "      <td>79.0</td>\n",
       "      <td>0.0</td>\n",
       "      <td>16.9</td>\n",
       "      <td>200.9</td>\n",
       "      <td>17.3</td>\n",
       "      <td>7</td>\n",
       "    </tr>\n",
       "    <tr>\n",
       "      <th>197</th>\n",
       "      <td>23.0</td>\n",
       "      <td>10.5</td>\n",
       "      <td>17.4</td>\n",
       "      <td>12.4</td>\n",
       "      <td>74.0</td>\n",
       "      <td>0.0</td>\n",
       "      <td>24.3</td>\n",
       "      <td>205.2</td>\n",
       "      <td>17.9</td>\n",
       "      <td>7</td>\n",
       "    </tr>\n",
       "    <tr>\n",
       "      <th>198</th>\n",
       "      <td>22.0</td>\n",
       "      <td>10.2</td>\n",
       "      <td>16.6</td>\n",
       "      <td>11.5</td>\n",
       "      <td>73.4</td>\n",
       "      <td>0.1</td>\n",
       "      <td>16.6</td>\n",
       "      <td>212.1</td>\n",
       "      <td>18.1</td>\n",
       "      <td>7</td>\n",
       "    </tr>\n",
       "    <tr>\n",
       "      <th>199</th>\n",
       "      <td>21.0</td>\n",
       "      <td>11.7</td>\n",
       "      <td>16.4</td>\n",
       "      <td>10.6</td>\n",
       "      <td>70.5</td>\n",
       "      <td>0.0</td>\n",
       "      <td>24.1</td>\n",
       "      <td>217.2</td>\n",
       "      <td>18.4</td>\n",
       "      <td>7</td>\n",
       "    </tr>\n",
       "  </tbody>\n",
       "</table>\n",
       "<p>200 rows × 10 columns</p>\n",
       "</div>"
      ],
      "text/plain": [
       "     tempmax  tempmin  temp   dew  humidity  precip  windspeed  \\\n",
       "0       15.9      3.3   9.0   2.4      65.2     0.0       16.5   \n",
       "1       16.9      3.3  10.0   2.4      61.2     0.0       15.5   \n",
       "2       21.7      2.4  12.3   2.4      56.1     0.0       16.3   \n",
       "3       25.9     11.2  17.5   3.2      43.9     0.0       28.7   \n",
       "4       18.0      8.2  14.1   8.2      69.2     0.0       16.1   \n",
       "..       ...      ...   ...   ...       ...     ...        ...   \n",
       "195     21.1     13.0  16.4  13.5      83.8     0.0       16.6   \n",
       "196     23.0     12.0  17.6  13.6      79.0     0.0       16.9   \n",
       "197     23.0     10.5  17.4  12.4      74.0     0.0       24.3   \n",
       "198     22.0     10.2  16.6  11.5      73.4     0.1       16.6   \n",
       "199     21.0     11.7  16.4  10.6      70.5     0.0       24.1   \n",
       "\n",
       "     solarradiation  solarenergy  uvindex  \n",
       "0             210.1         18.1        7  \n",
       "1             230.3         20.1        8  \n",
       "2             235.3         20.3        8  \n",
       "3             229.2         19.9        7  \n",
       "4             224.6         19.5        7  \n",
       "..              ...          ...      ...  \n",
       "195           155.8         13.4        6  \n",
       "196           200.9         17.3        7  \n",
       "197           205.2         17.9        7  \n",
       "198           212.1         18.1        7  \n",
       "199           217.2         18.4        7  \n",
       "\n",
       "[200 rows x 10 columns]"
      ]
     },
     "execution_count": 19,
     "metadata": {},
     "output_type": "execute_result"
    }
   ],
   "source": [
    "current_data\n"
   ]
  },
  {
   "cell_type": "code",
   "execution_count": 26,
   "metadata": {},
   "outputs": [],
   "source": [
    "tempmax=current_data['tempmax'].mean()\n",
    "tempmin=current_data['tempmin'].mean()\n",
    "temp=current_data['temp'].mean()\n",
    "dew=current_data['dew'].mean()\n",
    "humidity=current_data['humidity'].mean()\n",
    "precip=current_data['precip'].sum()\n",
    "windspeed=current_data['windspeed'].mean()\n",
    "solarradiation=current_data['solarradiation'].mean()\n",
    "solarenergy=current_data['solarenergy'].mean()\n",
    "uvindex=current_data['uvindex'].mean()"
   ]
  },
  {
   "cell_type": "code",
   "execution_count": 27,
   "metadata": {},
   "outputs": [],
   "source": [
    "def reduce_csv(row):\n",
    "   #give back the reduced information for a meteo csv file\n",
    "   #in order:tempmax,tempmin,temp,dew,humidity,precip,windspeed,solarradiation,solarenergy,uvindex\n",
    "   id=soil_data.iloc[row]['id']\n",
    "   name=\"meteo/\"+str(id)+\".csv\"    \n",
    "   current_data=pd.read_csv(name)\n",
    "\n",
    "   #columns to eliminate\n",
    "   to_eliminate=['name','datetime','feelslikemax','feelslikemin', 'feelslike','precipprob',\n",
    "      'precipcover', 'preciptype','snow','snowdepth', 'windgust','winddir', 'sealevelpressure', \n",
    "      'cloudcover', 'visibility','severerisk', 'sunrise','sunset', 'moonphase', 'conditions', \n",
    "      'description', 'icon', 'stations']\n",
    "\n",
    "   current_data.drop(to_eliminate, inplace=True, axis=1)\n",
    "\n",
    "   tempmax=current_data['tempmax'].mean()\n",
    "   tempmin=current_data['tempmin'].mean()\n",
    "   temp=current_data['temp'].mean()\n",
    "   dew=current_data['dew'].mean()\n",
    "   humidity=current_data['humidity'].mean()\n",
    "   precip=current_data['precip'].sum()\n",
    "   windspeed=current_data['windspeed'].mean()\n",
    "   solarradiation=current_data['solarradiation'].mean()\n",
    "   solarenergy=current_data['solarenergy'].mean()\n",
    "   uvindex=current_data['uvindex'].mean()\n",
    "\n",
    "   return([tempmax,tempmin,temp,dew,humidity,precip,windspeed,solarradiation,solarenergy,uvindex])"
   ]
  },
  {
   "cell_type": "code",
   "execution_count": 28,
   "metadata": {},
   "outputs": [],
   "source": [
    "row=0\n",
    "tempmax,tempmin,temp,dew,humidity,precip,windspeed,solarradiation,solarenergy,uvindex=reduce_csv(row)"
   ]
  },
  {
   "cell_type": "markdown",
   "metadata": {},
   "source": [
    "#### Attach this data to soil_data.csv "
   ]
  }
 ],
 "metadata": {
  "kernelspec": {
   "display_name": "Python 3.8.12 ('fds')",
   "language": "python",
   "name": "python3"
  },
  "language_info": {
   "codemirror_mode": {
    "name": "ipython",
    "version": 3
   },
   "file_extension": ".py",
   "mimetype": "text/x-python",
   "name": "python",
   "nbconvert_exporter": "python",
   "pygments_lexer": "ipython3",
   "version": "3.9.0"
  },
  "orig_nbformat": 4,
  "vscode": {
   "interpreter": {
    "hash": "c0e40e7c7a66e87c69eaa7498d7778a1d8fa6b3e422091d0b3e8dafd8f730247"
   }
  }
 },
 "nbformat": 4,
 "nbformat_minor": 2
}
